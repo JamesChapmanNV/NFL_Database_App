{
 "cells": [
  {
   "cell_type": "markdown",
   "id": "41766c29-f730-4821-ab69-212548c9d4f9",
   "metadata": {},
   "source": [
    "# NFL Database Project: WebScraping & Data Cleaning\n",
    "<br>\n",
    "CIS 761 Database Management Systems – Term Project<br>\n",
    "Kansas State University\n",
    "<br><br>\n",
    "Vishnu Bondalakunta<br>\n",
    "Charles Zumbaugh<br>\n",
    "James Chapman<br>\n",
    "<br>"
   ]
  },
  {
   "cell_type": "markdown",
   "id": "2ed33903-f986-4275-b4f9-1ab3a9c9af14",
   "metadata": {},
   "source": [
    "#### This notebook uses the public ESPN API. The URLs and endpoints were found in the following GitHub link. ESPN does not provide official documentation.\n",
    "\n",
    "* ## [List of NFL API Endpoints](https://gist.github.com/nntrn/ee26cb2a0716de0947a0a4e9a157bc1c#event-competitions-api)\n",
    "\n",
    "#### 10 tables are collected and saved as CSV files, which is used to populate the NFL database.\n",
    "* games\n",
    "* season_dates\n",
    "* venues\n",
    "* teams\n",
    "* linescores\n",
    "* rosters\n",
    "* positions\n",
    "* athletes\n",
    "* plays\n",
    "* player_plays"
   ]
  },
  {
   "cell_type": "code",
   "execution_count": 1,
   "id": "4fbb51b4",
   "metadata": {},
   "outputs": [],
   "source": [
    "import pandas as pd\n",
    "import numpy as np\n",
    "import requests\n",
    "import re"
   ]
  },
  {
   "cell_type": "code",
   "execution_count": 2,
   "id": "101ec647-e2b6-4552-931b-5981135229a7",
   "metadata": {},
   "outputs": [],
   "source": [
    "years = range(2013,2024) # ! Keep track of calendar year and NFL season year\n",
    "\n",
    "ESPN_EVENTS = 'https://site.api.espn.com/apis/site/v2/sports/football/nfl/scoreboard?limit=1000&dates={}' #.format(year)\n",
    "ESPN_ROSTERS = 'https://sports.core.api.espn.com/v2/sports/football/leagues/nfl/events/{}/competitions/{}/competitors/{}/roster' #.format(game_id,game_id,team_id)\n",
    "ESPN_ATHLETE_INFO = 'https://site.web.api.espn.com/apis/common/v3/sports/football/nfl/athletes/{}' #.format(player_id)\n",
    "ESPN_VENUE_INFO = 'http://sports.core.api.espn.com/v2/sports/football/leagues/nfl/venues/{}' #.format(venue_id)\n",
    "ESPN_TEAM_INFO = 'https://site.api.espn.com/apis/site/v2/sports/football/nfl/teams/{}' #.format(team_id)\n",
    "ESPN_POSITION_INFO = 'http://sports.core.api.espn.com/v2/sports/football/leagues/nfl/positions/{}' #.format(position_id)\n",
    "ESPN_PLAY_BY_PLAY = 'https://sports.core.api.espn.com/v2/sports/football/leagues/nfl/events/{}/competitions/{}/plays?limit=300' #.format(game_id,game_id)\n",
    "ESPN_STATISTICS = 'https://sports.core.api.espn.com/v2/sports/football/leagues/nfl/events/{}/competitions/{}/competitors/{}/roster/{}/statistics/0' #.format(game_id,game_id,team_id,player_id)"
   ]
  },
  {
   "cell_type": "markdown",
   "id": "e33829d6-bc7a-4f17-8c01-a5ddc19701ec",
   "metadata": {},
   "source": [
    "# Games"
   ]
  },
  {
   "cell_type": "code",
   "execution_count": 3,
   "id": "300ee171-270d-47ee-a8f5-2f8556604e77",
   "metadata": {},
   "outputs": [
    {
     "name": "stdout",
     "output_type": "stream",
     "text": [
      "<class 'pandas.core.frame.DataFrame'>\n",
      "Int64Index: 2976 entries, 0 to 3584\n",
      "Data columns (total 7 columns):\n",
      " #   Column        Non-Null Count  Dtype \n",
      "---  ------        --------------  ----- \n",
      " 0   game_id       2976 non-null   int64 \n",
      " 1   date          2976 non-null   object\n",
      " 2   attendance    2976 non-null   int64 \n",
      " 3   venue_id      2976 non-null   int64 \n",
      " 4   home_team_id  2976 non-null   int64 \n",
      " 5   away_team_id  2976 non-null   int64 \n",
      " 6   utc_time      2976 non-null   object\n",
      "dtypes: int64(5), object(2)\n",
      "memory usage: 186.0+ KB\n"
     ]
    }
   ],
   "source": [
    "games = pd.DataFrame()\n",
    "for year in years:\n",
    "    try:\n",
    "        events = requests.get(ESPN_EVENTS.format(year)).json()\n",
    "        yearlyEvents = pd.json_normalize(events['events'])\n",
    "        games = pd.concat([games, yearlyEvents], ignore_index=True)\n",
    "    except: \n",
    "        print(year)\n",
    "\n",
    "# games['competitions'] is a list of dictionaries \n",
    "games['attendance'] = games['competitions'].apply(lambda x : x[0]['attendance']).astype('int64')\n",
    "games['venue_id'] = games['competitions'].apply(lambda x : x[0]['venue']['id']).astype('int64')\n",
    "\n",
    "# games['competitions'][0]['competitors'] is a list of 2 dictionaries (home and away).\n",
    "games['competitors'] = games['competitions'].apply(lambda x : x[0]['competitors'])\n",
    "\n",
    "games['home_team_id'] = games['competitors'].apply(lambda x : x[0]['id']).astype('int64')\n",
    "games['away_team_id'] = games['competitors'].apply(lambda x : x[1]['id']).astype('int64')\n",
    "\n",
    "# Drop pre-season, off-season, & probowl\n",
    "games = games.drop(games[(games['season.type'].isin([1, 4]))].index)\n",
    "games = games.drop(games[(games['home_team_id'].isin([31,32,35,36]))].index)\n",
    "\n",
    "# Split datetime into date/time \n",
    "# decompose date/week/season year/season type\n",
    "games['datetime'] = pd.to_datetime(games['date'])\n",
    "games['utc_time'] = games['datetime'].dt.strftime(\"%H:%M\")\n",
    "games['date'] = games['datetime'].dt.strftime(\"%Y-%m-%d\")\n",
    "season_dates = games[['date','season.year','season.type','week.number']].copy()\n",
    "\n",
    "#Keep around For linescores\n",
    "gameLinescores = games[['id','competitors']].copy()\n",
    "\n",
    "# Drop rows\n",
    "games = games.rename(columns={'id':'game_id'})\n",
    "games = games[['game_id',\n",
    "               'date',\n",
    "               'attendance',\n",
    "               'venue_id',\n",
    "               'home_team_id',\n",
    "               'away_team_id',\n",
    "               'utc_time']] \n",
    "games['game_id'] = games['game_id'].astype('int64')\n",
    "games.info(verbose=True)"
   ]
  },
  {
   "cell_type": "markdown",
   "id": "9077d0a9-3fac-4cab-8cd0-4200bb8dcd96",
   "metadata": {},
   "source": [
    "# Season_Dates"
   ]
  },
  {
   "cell_type": "code",
   "execution_count": 4,
   "id": "66dc44ba-1976-4330-b14e-ce8bfa6b4c62",
   "metadata": {},
   "outputs": [
    {
     "name": "stdout",
     "output_type": "stream",
     "text": [
      "<class 'pandas.core.frame.DataFrame'>\n",
      "Int64Index: 827 entries, 0 to 3584\n",
      "Data columns (total 4 columns):\n",
      " #   Column       Non-Null Count  Dtype \n",
      "---  ------       --------------  ----- \n",
      " 0   date         827 non-null    object\n",
      " 1   season_year  827 non-null    int64 \n",
      " 2   season_type  827 non-null    object\n",
      " 3   week         827 non-null    int64 \n",
      "dtypes: int64(2), object(2)\n",
      "memory usage: 32.3+ KB\n"
     ]
    }
   ],
   "source": [
    "season_dates = season_dates.rename(columns={'season.year':'season_year',\n",
    "                                          'season.type':'season_type',\n",
    "                                          'week.number':'week'})\n",
    "# season_types names\n",
    "season_dates.loc[(season_dates['season_type']== 2),'season_type'] = 'Regular Season'\n",
    "season_dates.loc[(season_dates['season_type']== 3),'season_type'] = 'Post Season'\n",
    "\n",
    "season_dates.drop_duplicates(inplace=True)\n",
    "season_dates.info(verbose=True) "
   ]
  },
  {
   "cell_type": "markdown",
   "id": "a9fcc6c0-97ed-49bc-be98-884e1e5afa51",
   "metadata": {},
   "source": [
    "# Venues"
   ]
  },
  {
   "cell_type": "code",
   "execution_count": 5,
   "id": "817625aa-8ee6-4bd0-8ed4-0a0e30281acc",
   "metadata": {},
   "outputs": [
    {
     "name": "stdout",
     "output_type": "stream",
     "text": [
      "<class 'pandas.core.frame.DataFrame'>\n",
      "RangeIndex: 46 entries, 0 to 45\n",
      "Data columns (total 7 columns):\n",
      " #   Column      Non-Null Count  Dtype \n",
      "---  ------      --------------  ----- \n",
      " 0   venue_id    46 non-null     int64 \n",
      " 1   venue_name  46 non-null     object\n",
      " 2   capacity    46 non-null     int64 \n",
      " 3   grass       46 non-null     bool  \n",
      " 4   indoor      46 non-null     bool  \n",
      " 5   city        46 non-null     object\n",
      " 6   state       40 non-null     object\n",
      "dtypes: bool(2), int64(2), object(3)\n",
      "memory usage: 2.0+ KB\n"
     ]
    }
   ],
   "source": [
    "venues = pd.DataFrame()\n",
    "for venue_id in pd.unique(games['venue_id']):\n",
    "    try:\n",
    "        venue_info = requests.get(ESPN_VENUE_INFO.format(venue_id)).json()\n",
    "        venue_info = pd.json_normalize(venue_info)\n",
    "        venues = pd.concat([venues, venue_info], ignore_index=True)\n",
    "    except: \n",
    "        print(venue_id)\n",
    "\n",
    "venues = venues.rename(columns={'id':'venue_id',\n",
    "                                'fullName':'venue_name',\n",
    "                                'address.city':'city',\n",
    "                                'address.state':'state'})\n",
    "\n",
    "venues['capacity'] = 0\n",
    "venues[['venue_id','capacity']] = venues[['venue_id','capacity']].astype('int64')\n",
    "capacity_data = {'NRG Stadium' : 72220,'Lambeau Field' : 81441,'M&T Bank Stadium' : 71008,'FedExField' : 67617,'Empower Field at Mile High' : 76125,'Candlestick Park' : 69732,\n",
    "                 'Georgia Dome' : 71228,'Gillette Stadium' : 65878,'Caesars Superdome' : 83000,'Highmark Stadium' : 71608,'Soldier Field' : 61500,'Cleveland Browns Stadium' : 67431,\n",
    "                 'Ford Field' : 65000,'Lucas Oil Stadium' : 70000,'MetLife Stadium' : 82500,'Acrisure Stadium' : 68400,'Bank of America Stadium' : 74867,'EverBank Stadium' : 67838,\n",
    "                 'The Dome at America\\'s Center' : 67000,'AT&T Stadium' : 80000,'SDCCU Stadium' : 70561,'GEHA Field at Arrowhead Stadium' : 76416,\n",
    "                'Lincoln Financial Field' : 67594,'State Farm Stadium' : 63400,'Raymond James Stadium' : 75000,'Oakland Coliseum' : 63000,'Lumen Field' : 68740,\n",
    "                'Paycor Stadium' : 65515,'Nissan Stadium' : 69143,'Mall of America Field' : 64121,'Hard Rock Stadium' : 65326,'Wembley Stadium' : 90000,'Rogers Centre' : 49286,\n",
    "                 'Huntington Bank Stadium' : 50805,'Levi\\'s Stadium' : 68500,'Los Angeles Memorial Coliseum' : 77500,'U.S. Bank Stadium' : 73000,'Twickenham Stadium' : 82000,\n",
    "                'Estadio Azteca' : 83264,'Dignity Health Sports Park' : 27000,'Mercedes-Benz Stadium' : 71000,'Tottenham Hotspur Stadium' : 62850,'SoFi Stadium' : 70000,\n",
    "                 'Allegiant Stadium' : 65000,'Allianz Arena' : 75024,'Frankfurt Stadium' : 51500}\n",
    "\n",
    "for venue_name , capacity in capacity_data.items(): \n",
    "    venues.loc[(venues['venue_name']==venue_name) ,'capacity'] = capacity\n",
    "    \n",
    "# # Drop rows\n",
    "venues = venues[['venue_id',\n",
    "                 'venue_name',\n",
    "                 'capacity',\n",
    "                 'grass',\n",
    "                 'indoor',\n",
    "                 'city',\n",
    "                 'state']]\n",
    "\n",
    "venues.info(verbose=True)"
   ]
  },
  {
   "cell_type": "markdown",
   "id": "27c231af-b721-4b97-a9bb-2f05a03aa7e6",
   "metadata": {},
   "source": [
    "# Teams"
   ]
  },
  {
   "cell_type": "code",
   "execution_count": 6,
   "id": "57666c97-de78-4ad7-a90a-8a6087f25d14",
   "metadata": {},
   "outputs": [
    {
     "name": "stdout",
     "output_type": "stream",
     "text": [
      "<class 'pandas.core.frame.DataFrame'>\n",
      "RangeIndex: 32 entries, 0 to 31\n",
      "Data columns (total 7 columns):\n",
      " #   Column           Non-Null Count  Dtype \n",
      "---  ------           --------------  ----- \n",
      " 0   team_id          32 non-null     int64 \n",
      " 1   location         32 non-null     object\n",
      " 2   team_name        32 non-null     object\n",
      " 3   abbreviation     32 non-null     object\n",
      " 4   venue_id         32 non-null     int64 \n",
      " 5   primary_color    32 non-null     object\n",
      " 6   secondary_color  32 non-null     object\n",
      "dtypes: int64(2), object(5)\n",
      "memory usage: 1.9+ KB\n"
     ]
    }
   ],
   "source": [
    "teams = pd.DataFrame()\n",
    "for team_id in pd.unique(games['home_team_id']):\n",
    "    try:\n",
    "        team_info = requests.get(ESPN_TEAM_INFO.format(team_id)).json()\n",
    "        team_info = pd.json_normalize(team_info)\n",
    "        teams = pd.concat([teams, team_info], ignore_index=True)\n",
    "    except: \n",
    "        print(team_id)\n",
    "\n",
    "# # Drop rows\n",
    "teams = teams[['team.id',\n",
    "                 'team.location',\n",
    "                 'team.name',\n",
    "                 'team.abbreviation',\n",
    "                 'team.franchise.venue.id',\n",
    "                 'team.color',\n",
    "                 'team.alternateColor']]\n",
    "teams = teams.rename(columns={'team.id':'team_id',\n",
    "                             'team.location':'location',\n",
    "                             'team.name':'team_name',\n",
    "                             'team.abbreviation':'abbreviation',\n",
    "                             'team.franchise.venue.id':'venue_id',\n",
    "                             'team.color':'primary_color',\n",
    "                             'team.alternateColor':'secondary_color'})\n",
    "teams[['team_id','venue_id']] = teams[['team_id','venue_id']].astype('int64')\n",
    "teams.info(verbose=True)"
   ]
  },
  {
   "cell_type": "markdown",
   "id": "4660bfc1-975e-440e-b08c-2908268641d6",
   "metadata": {},
   "source": [
    "# Linescores \r\n"
   ]
  },
  {
   "cell_type": "code",
   "execution_count": 7,
   "id": "3d523ce5-425a-4bad-93b3-0756bbf664db",
   "metadata": {},
   "outputs": [
    {
     "name": "stdout",
     "output_type": "stream",
     "text": [
      "Game canceled- 400554331\n",
      "Game canceled- 400951581\n",
      "<class 'pandas.core.frame.DataFrame'>\n",
      "Int64Index: 24140 entries, 0 to 24139\n",
      "Data columns (total 4 columns):\n",
      " #   Column   Non-Null Count  Dtype\n",
      "---  ------   --------------  -----\n",
      " 0   game_id  24140 non-null  int64\n",
      " 1   team_id  24140 non-null  int64\n",
      " 2   quarter  24140 non-null  int64\n",
      " 3   score    24140 non-null  int64\n",
      "dtypes: int64(4)\n",
      "memory usage: 943.0 KB\n"
     ]
    }
   ],
   "source": [
    "linescores = pd.DataFrame(columns = [\"game_id\",\"team_id\",\"quarter\",\"score\"])\n",
    "overtimecount = 0\n",
    "def eachrow(game):\n",
    "    try:\n",
    "        for competitor in game['competitors']: # competitors[0] = home team\n",
    "            quarter = 0\n",
    "            for linescore in competitor['linescores']:\n",
    "                quarter += 1\n",
    "                linescores.loc[len(linescores.index)] = [game['id'], \n",
    "                                                         competitor['id'],\n",
    "                                                         quarter, \n",
    "                                                         linescore['value']]\n",
    "    except:\n",
    "        print('Game canceled-', game['id'])\n",
    "\n",
    "junk = gameLinescores.apply(eachrow, axis=1)\n",
    "\n",
    "linescores[['game_id','team_id','score']] = linescores[['game_id','team_id','score']].astype('int64')\n",
    "linescores.info(verbose=True)"
   ]
  },
  {
   "cell_type": "markdown",
   "id": "f37424e6-1098-4a4a-ad57-410fffbbb5b5",
   "metadata": {},
   "source": [
    "# Rosters \n",
    "\n",
    "The rosters URL lists all players under 'entries'. But the position is something like this…<br>\n",
    "$ref : \"http://sports.core.api.espn.com/v2/sports/football/leagues/nfl/positions/46?lang=en&region=us\" <br>\r\n",
    "This just splits the link at \"positions\" giving \"/46?lang=en&region=us\"\n",
    "and then takes only numbers \"46\"\n",
    "\n",
    "\r\n"
   ]
  },
  {
   "cell_type": "code",
   "execution_count": 8,
   "id": "c74d2d41-08c2-471d-bf39-f0673e253556",
   "metadata": {},
   "outputs": [
    {
     "name": "stdout",
     "output_type": "stream",
     "text": [
      "Game canceled or Pro bowl - 400554331 KeyError 'entries'\n",
      "Game canceled or Pro bowl - 400874729 KeyError 'entries'\n",
      "<class 'pandas.core.frame.DataFrame'>\n",
      "Int64Index: 363340 entries, 0 to 363403\n",
      "Data columns (total 5 columns):\n",
      " #   Column       Non-Null Count   Dtype  \n",
      "---  ------       --------------   -----  \n",
      " 0   game_id      363340 non-null  int64  \n",
      " 1   team_id      363340 non-null  int64  \n",
      " 2   athlete_id   363340 non-null  int64  \n",
      " 3   position_id  363340 non-null  int64  \n",
      " 4   played       363340 non-null  boolean\n",
      "dtypes: boolean(1), int64(4)\n",
      "memory usage: 14.6 MB\n"
     ]
    }
   ],
   "source": [
    "rosters = pd.DataFrame(columns = [\"game_id\", \"team_id\", \"athlete_id\",\"position_id\",\"didNotPlay\"])\n",
    "def eachrow(game):\n",
    "    temp_game_id = game['game_id']\n",
    "    temp_home_team_id = game['home_team_id']\n",
    "    temp_away_team_id = game['away_team_id']\n",
    "\n",
    "    try:\n",
    "        # Errors kept occurring with ESPN API, repeat once if error occurs\n",
    "        try:\n",
    "            homeRoster = requests.get(ESPN_ROSTERS.format(temp_game_id,temp_game_id,temp_home_team_id)).json()\n",
    "            for player in homeRoster['entries']:\n",
    "                split = re.split(\"positions\", player['position']['$ref'])\n",
    "                position_id = re.sub(\"[^0-9.]\", \"\", split[1])\n",
    "                rosters.loc[len(rosters.index)] = [temp_game_id, temp_home_team_id,player['playerId'], position_id, player['didNotPlay']]\n",
    "        except:\n",
    "            homeRoster = requests.get(ESPN_ROSTERS.format(temp_game_id,temp_game_id,temp_home_team_id)).json()\n",
    "            for player in homeRoster['entries']:\n",
    "                split = re.split(\"positions\", player['position']['$ref'])\n",
    "                position_id = re.sub(\"[^0-9.]\", \"\", split[1])\n",
    "                rosters.loc[len(rosters.index)] = [temp_game_id, temp_home_team_id,player['playerId'], position_id, player['didNotPlay']]\n",
    "            print('Success 2nd try homeRoster of game # -', game['game_id'])\n",
    "\n",
    "        # Errors kept occurring with ESPN API, repeat once if error occurs\n",
    "        try:    \n",
    "            awayRoster = requests.get(ESPN_ROSTERS.format(temp_game_id,temp_game_id,temp_away_team_id)).json()\n",
    "            for player in awayRoster['entries']:\n",
    "                split = re.split(\"positions\", player['position']['$ref'])\n",
    "                position_id = re.sub(\"[^0-9.]\", \"\", split[1])\n",
    "                rosters.loc[len(rosters.index)] = [temp_game_id, temp_away_team_id,player['playerId'], position_id, player['didNotPlay']]\n",
    "        except:\n",
    "            awayRoster = requests.get(ESPN_ROSTERS.format(temp_game_id,temp_game_id,temp_away_team_id)).json()\n",
    "            for player in awayRoster['entries']:\n",
    "                split = re.split(\"positions\", player['position']['$ref'])\n",
    "                position_id = re.sub(\"[^0-9.]\", \"\", split[1])\n",
    "                rosters.loc[len(rosters.index)] = [temp_game_id, temp_away_team_id,player['playerId'], position_id, player['didNotPlay']]\n",
    "            print('Success 2nd try awayRoster of game # -', game['game_id'])\n",
    "    except Exception as error:   \n",
    "        print('Game canceled or Pro bowl -', game['game_id'], type(error).__name__, error)\n",
    "\n",
    "games.apply(eachrow, axis=1)\n",
    "\n",
    "rosters[['game_id','team_id','athlete_id','position_id']] = rosters[['game_id','team_id','athlete_id','position_id']].astype('int64')\n",
    "rosters['played'] = ~rosters['didNotPlay'].astype('boolean')\n",
    "rosters = rosters.drop(['didNotPlay'], axis=1)\n",
    "rosters = rosters[rosters['athlete_id']!=12454] # drop problem athlete\n",
    "rosters.info(verbose=True)"
   ]
  },
  {
   "cell_type": "markdown",
   "id": "a4e0be8e-dfcf-4e34-b7d6-5f9d413158d9",
   "metadata": {},
   "source": [
    "# Positions"
   ]
  },
  {
   "cell_type": "code",
   "execution_count": 9,
   "id": "f3bccf3e-e673-4536-bed6-e40c99ddc734",
   "metadata": {},
   "outputs": [
    {
     "name": "stdout",
     "output_type": "stream",
     "text": [
      "<class 'pandas.core.frame.DataFrame'>\n",
      "RangeIndex: 24 entries, 0 to 23\n",
      "Data columns (total 4 columns):\n",
      " #   Column         Non-Null Count  Dtype \n",
      "---  ------         --------------  ----- \n",
      " 0   position_id    24 non-null     int64 \n",
      " 1   position_name  24 non-null     object\n",
      " 2   abbreviation   24 non-null     object\n",
      " 3   platoon        22 non-null     object\n",
      "dtypes: int64(1), object(3)\n",
      "memory usage: 896.0+ bytes\n"
     ]
    }
   ],
   "source": [
    "positions = pd.DataFrame()\n",
    "for position_id in pd.unique(rosters['position_id']):\n",
    "    try:\n",
    "        position_info = requests.get(ESPN_POSITION_INFO.format(position_id)).json()\n",
    "        position_info = pd.json_normalize(position_info)\n",
    "        positions = pd.concat([positions, position_info], ignore_index=True)\n",
    "    except: \n",
    "        print(position_id)\n",
    "\n",
    "def eachrow(x):\n",
    "    try:\n",
    "        for competitor in game['competitors']: # competitors[0] = home team\n",
    "            quarter = 0\n",
    "            for linescore in competitor['linescores']:\n",
    "                quarter += 1\n",
    "                linescores.loc[len(linescores.index)] = [game['id'], \n",
    "                                                         competitor['id'],\n",
    "                                                         quarter, \n",
    "                                                         linescore['value']]\n",
    "    except:\n",
    "        print('Game canceled-', game['id'])\n",
    "\n",
    "# Drop rows\n",
    "positions = positions[['id', 'name', 'abbreviation']]\n",
    "positions['platoon'] = ''\n",
    "positions = positions.rename(columns={'id':'position_id','name':'position_name'})\n",
    "\n",
    "platoon_data = {'Unknown' :  pd.NA,'Defensive Tackle' : 'Defense','Running Back' : 'Offense','Tight End' : 'Offense','Defensive End' : 'Defense',\n",
    "        'Wide Receiver' : 'Offense','Center' : 'Offense','Offensive Tackle' : 'Offense','Safety' : 'Defense','Guard' : 'Offense',\n",
    "        'Cornerback' : 'Defense','Linebacker' : 'Defense','Quarterback' : 'Offense','Punter' : 'Special Teams',\n",
    "        'Place kicker' : 'Special Teams','Long Snapper' : 'Special Teams','Fullback' : 'Offense','Nose Tackle' : 'Defense',\n",
    "        'Defensive Back' : 'Defense','Offensive Lineman' : 'Offense','Defensive Lineman' : 'Defense','Athlete' :  pd.NA,'Kick Returner' : 'Special Teams','Punt Returner' : 'Special Teams'}\n",
    "\n",
    "for position_name , platoon in platoon_data.items(): \n",
    "    positions.loc[(positions['position_name']==position_name) ,'platoon'] = platoon\n",
    "\n",
    "positions['position_id'] = positions['position_id'].astype('int64')\n",
    "positions.info(verbose=True)"
   ]
  },
  {
   "cell_type": "markdown",
   "id": "9b825c8b-b46b-426c-939c-1a3a45c932f8",
   "metadata": {},
   "source": [
    "# Athletes "
   ]
  },
  {
   "cell_type": "code",
   "execution_count": 10,
   "id": "28a6ba98-f344-4ed3-bec8-57406f10c342",
   "metadata": {},
   "outputs": [
    {
     "name": "stdout",
     "output_type": "stream",
     "text": [
      "4568981\n"
     ]
    },
    {
     "name": "stderr",
     "output_type": "stream",
     "text": [
      "C:\\Users\\James\\AppData\\Local\\Temp\\ipykernel_29316\\2675791498.py:17: PerformanceWarning: DataFrame is highly fragmented.  This is usually the result of calling `frame.insert` many times, which has poor performance.  Consider joining all columns at once using pd.concat(axis=1) instead. To get a de-fragmented frame, use `newframe = frame.copy()`\n",
      "  athletes['birth_city'] = athletes['displayBirthPlace'].apply(lambda x: split_birthplace(x, 0))\n",
      "C:\\Users\\James\\AppData\\Local\\Temp\\ipykernel_29316\\2675791498.py:18: PerformanceWarning: DataFrame is highly fragmented.  This is usually the result of calling `frame.insert` many times, which has poor performance.  Consider joining all columns at once using pd.concat(axis=1) instead. To get a de-fragmented frame, use `newframe = frame.copy()`\n",
      "  athletes['birth_state'] = athletes['displayBirthPlace'].apply(lambda x: split_birthplace(x, 1))\n"
     ]
    }
   ],
   "source": [
    "athletes = pd.DataFrame()\n",
    "for athlete_id in pd.unique(rosters['athlete_id']):\n",
    "    try:\n",
    "        athlete_info = requests.get(ESPN_ATHLETE_INFO.format(athlete_id)).json()\n",
    "        athlete_info = pd.json_normalize(athlete_info['athlete'])\n",
    "        athletes = pd.concat([athletes, athlete_info], ignore_index=True)\n",
    "    except: \n",
    "        print(athlete_id)\n",
    "\n",
    "def split_birthplace(s: str, index: int):\n",
    "    try:\n",
    "        val = s.split(', ')[index]\n",
    "        return val\n",
    "    except:\n",
    "        return ''\n",
    "\n",
    "athletes['birth_city'] = athletes['displayBirthPlace'].apply(lambda x: split_birthplace(x, 0))\n",
    "athletes['birth_state'] = athletes['displayBirthPlace'].apply(lambda x: split_birthplace(x, 1))\n",
    "\n",
    "# Drop rows\n",
    "athletes = athletes.rename(columns={'id':'athlete_id',\n",
    "                                     'displayHeight':'height',\n",
    "                                    'firstName':'first_name',\n",
    "                                    'lastName':'last_name',\n",
    "                                     'displayWeight':'weight',\n",
    "                                     'displayDOB':'dob'})#'displayDraft':'drafted_bool',\n",
    "athletes = athletes[['athlete_id',\n",
    "                     'first_name',\n",
    "                     'last_name',\n",
    "                     'height',\n",
    "                     'weight',\n",
    "                     'dob',         #'position.id',#'team.id',#'collegeTeam.id',#'collegeAthlete.id'\n",
    "                     'birth_city',  #'drafted_bool',#'debutYear',#'displayDraft']]\n",
    "                     'birth_state']]#'college.id',#'jersey',#'displayJersey',#'displayExperience',"
   ]
  },
  {
   "cell_type": "code",
   "execution_count": 11,
   "id": "a59af6ce-102c-4019-9bf1-b60273291930",
   "metadata": {},
   "outputs": [
    {
     "name": "stdout",
     "output_type": "stream",
     "text": [
      "<class 'pandas.core.frame.DataFrame'>\n",
      "RangeIndex: 7165 entries, 0 to 7164\n",
      "Data columns (total 8 columns):\n",
      " #   Column       Non-Null Count  Dtype \n",
      "---  ------       --------------  ----- \n",
      " 0   athlete_id   7165 non-null   object\n",
      " 1   first_name   7165 non-null   object\n",
      " 2   last_name    7165 non-null   object\n",
      " 3   height       7157 non-null   object\n",
      " 4   weight       7157 non-null   object\n",
      " 5   dob          7165 non-null   object\n",
      " 6   birth_city   7165 non-null   object\n",
      " 7   birth_state  7165 non-null   object\n",
      "dtypes: object(8)\n",
      "memory usage: 447.9+ KB\n"
     ]
    }
   ],
   "source": [
    "def extract_number(s: str) -> str:\n",
    "    try:\n",
    "        return re.match(r'[0-9]+', s).group(0)\n",
    "    except:\n",
    "        return pd.NA #'NULL'\n",
    "\n",
    "\n",
    "def get_height_inches(height_str: str) -> int:\n",
    "    # pattern of display height in [0-9]'[0-9]+\" where the first\n",
    "    # value is height in feet and the second is height in inches.\n",
    "    try:\n",
    "        matches = re.findall(r'[0-9]+', height_str)\n",
    "        feet = matches[0]\n",
    "        inches = matches[1]\n",
    "        return int(feet) * 12 + int(inches)\n",
    "    except:\n",
    "        return pd.NA\n",
    "\n",
    "def clean_date(date_string: str) -> str:\n",
    "    # The date is formatted in one of several ways:\n",
    "    # %M-%d-%Y\n",
    "    # %M-%d-%y\n",
    "    # %m-%d-%Y\n",
    "    # %m-%d-%y\n",
    "    try:\n",
    "        date_values = re.findall(r'[0-9]+', date_string)\n",
    "        day = date_values[0]\n",
    "        month = date_values[1]\n",
    "        year = date_values[2]\n",
    "        day = '0' + day if len(day) < 2 else day\n",
    "        month = '0' + month if len(month) < 2 else month\n",
    "        if len(year) < 4:\n",
    "            if int(year) > 24:\n",
    "                year = '19' + year\n",
    "            else:\n",
    "                year = '20' + year\n",
    "        return f'{month}-{day}-{year}'\n",
    "    except:\n",
    "        return ''\n",
    "\n",
    "athletes['weight'] = athletes['weight'].apply(extract_number)\n",
    "athletes['height'] = athletes['height'].apply(get_height_inches)\n",
    "athletes['dob'] = athletes['dob'].apply(clean_date)\n",
    "athletes.info(verbose=True)"
   ]
  },
  {
   "cell_type": "markdown",
   "id": "4bddb09d-ef54-4422-b63c-918266b92f99",
   "metadata": {},
   "source": [
    "# Replace IDs with names\n",
    "For Database Normalization. <br>\n",
    "* venue_id --> venue_name\n",
    "* team_id --> team_name\n",
    "* position_id --> position_name"
   ]
  },
  {
   "cell_type": "code",
   "execution_count": 12,
   "id": "ee7350a8-9cb0-45f1-adc7-998532b957c5",
   "metadata": {},
   "outputs": [],
   "source": [
    "# Games table - venue_id, home_team_id, & away_team_id\n",
    "games = games.merge(venues[['venue_id','venue_name']],how=\"left\",on = ['venue_id'])\n",
    "games = games.merge(teams[['team_id','team_name']],how=\"left\", left_on = ['home_team_id'],right_on = ['team_id'])\n",
    "games = games.rename(columns={'team_name':'home_team_name'})\n",
    "games = games.drop(['team_id'], axis=1)\n",
    "\n",
    "# away_team_id\n",
    "games = games.merge(teams[['team_id','team_name']],how=\"left\", left_on = ['away_team_id'],right_on = ['team_id'])\n",
    "games = games.rename(columns={'team_name':'away_team_name'})\n",
    "games = games.drop(['venue_id','away_team_id','home_team_id','team_id'], axis=1)\n",
    "\n",
    "# teams table - venue_id\n",
    "teams = teams.merge(venues[['venue_id','venue_name']],how=\"left\",on = ['venue_id'])\n",
    "teams = teams.drop(['venue_id'], axis=1)\n",
    "\n",
    "# linescores table - team_id\n",
    "linescores = linescores.merge(teams[['team_id','team_name']],how=\"left\",on = ['team_id'])\n",
    "linescores = linescores.drop(['team_id'], axis=1)\n",
    "\n",
    "# rosters table - team_id & position_id\n",
    "rosters = rosters.merge(teams[['team_id','team_name']],how=\"left\",on = ['team_id'])\n",
    "rosters = rosters.merge(positions[['position_id','position_name']],how=\"left\",on = ['position_id'])\n",
    "rosters = rosters.drop(['team_id','position_id'], axis=1)\n",
    "rosters = rosters.drop(rosters[(rosters['athlete_id'].isin([4568981,2514468,17372,11717]))].index)\n",
    "rosters.drop_duplicates(inplace=True)\n",
    "\n",
    "# Drop ID columns from original tables\n",
    "teams = teams.drop(['team_id'], axis=1)\n",
    "venues = venues.drop(['venue_id'], axis=1)\n",
    "positions = positions.drop(['position_id'], axis=1)"
   ]
  },
  {
   "cell_type": "markdown",
   "id": "0d6f4ae4-070a-4708-8d40-0cba33a90725",
   "metadata": {},
   "source": [
    "### Find all athletes with multiple athlete IDs"
   ]
  },
  {
   "cell_type": "code",
   "execution_count": 13,
   "id": "c6b2fed4-8375-4233-8710-9b60b17edfa4",
   "metadata": {},
   "outputs": [
    {
     "name": "stdout",
     "output_type": "stream",
     "text": [
      "Mike Johnson 04-02-1987\n",
      "--Change all athlete_id= 13279 to 2219984\n",
      "Tom Johnson 08-30-1984\n",
      "--Change all athlete_id= 10001 to 16695\n",
      "Willie Smith 11-13-1986\n",
      "--Change all athlete_id= 14447 to 2219931\n",
      "Branden Albert 11-04-1984\n",
      "--Change all athlete_id= 11249 to 3938599\n",
      "Chris Manhertz 04-10-1992\n",
      "--Change all athlete_id= 2531358 to 4071345\n",
      "Brandon Scherff 12-26-1991\n",
      "--Change all athlete_id= 2511708 to 4287933\n",
      "De'Angelo Henderson 11-24-1992\n",
      "--Change all athlete_id= 2968226 to 2565755\n"
     ]
    }
   ],
   "source": [
    "athletesDUPLICATES = athletes[athletes.duplicated(keep='first', subset=['first_name','last_name','dob'])][['first_name','last_name','dob']].copy()\n",
    "for row in athletesDUPLICATES[athletesDUPLICATES['last_name'] != 'Team'].to_numpy():\n",
    "    IdS = (athletes.loc[(athletes['first_name']==row[0])& (athletes['last_name']==row[1])& (athletes['dob']==row[2])]['athlete_id']).dropna().unique()\n",
    "    print(row[0],row[1],row[2])\n",
    "    print('--Change all athlete_id=',IdS[0],'to',IdS[1])\n",
    "    rosters.loc[(rosters['athlete_id']==IdS[0]),'athlete_id']= IdS[1]\n",
    "\n",
    "rosters = rosters.drop_duplicates( subset = ['game_id', 'athlete_id'], keep = 'first')"
   ]
  },
  {
   "cell_type": "markdown",
   "id": "e48f29ef-68e5-424d-95ee-b22683a91828",
   "metadata": {},
   "source": [
    "# Plays"
   ]
  },
  {
   "cell_type": "code",
   "execution_count": 14,
   "id": "7c0df4e7-4c1b-4b3e-9aa4-51f5694af69c",
   "metadata": {},
   "outputs": [
    {
     "name": "stdout",
     "output_type": "stream",
     "text": [
      "<class 'pandas.core.frame.DataFrame'>\n",
      "RangeIndex: 522707 entries, 0 to 522706\n",
      "Data columns (total 9 columns):\n",
      " #   Column             Non-Null Count   Dtype \n",
      "---  ------             --------------   ----- \n",
      " 0   play_id            522707 non-null  object\n",
      " 1   start_down         522707 non-null  int64 \n",
      " 2   end_down           522707 non-null  int64 \n",
      " 3   quarter            522707 non-null  int64 \n",
      " 4   play_type          522691 non-null  object\n",
      " 5   seconds_remaining  522707 non-null  int64 \n",
      " 6   text               522707 non-null  object\n",
      " 7   score_value        522707 non-null  int64 \n",
      " 8   yards              522707 non-null  int64 \n",
      "dtypes: int64(6), object(3)\n",
      "memory usage: 35.9+ MB\n"
     ]
    }
   ],
   "source": [
    "plays = pd.DataFrame()\n",
    "player_plays = pd.DataFrame(columns = ['play_id','game_id','player_id','type'])\n",
    "\n",
    "# ignore: Plays on column that we don't use has a data type conversion\n",
    "import warnings\n",
    "warnings.simplefilter(action='ignore', category=FutureWarning)\n",
    "\n",
    "for game_id in games['game_id']:\n",
    "    try:\n",
    "        game_data = requests.get(ESPN_PLAY_BY_PLAY.format(game_id,game_id)).json()\n",
    "        play_data = pd.json_normalize(game_data['items'])\n",
    "        play_data['game_id'] = game_id\n",
    "        plays = pd.concat([plays, play_data], ignore_index=True)\n",
    "    except: \n",
    "        print(game_id)\n",
    "\n",
    "plays = plays.rename(columns={'id':'play_id',\n",
    "                             'type.text':'play_type',\n",
    "                             'period.number':'quarter',\n",
    "                             'clock.value':'seconds_remaining',\n",
    "                              'scoreValue':'score_value',\n",
    "                              'statYardage':'yards',\n",
    "                              'start.down':'start_down',\n",
    "                             'end.down':'end_down'})\n",
    "\n",
    "temp = plays[['game_id','play_id','participants']].copy()\n",
    "\n",
    "plays = plays[['play_id',\n",
    "               'start_down',\n",
    "               'end_down',\n",
    "               'quarter',\n",
    "               'play_type',\n",
    "               'seconds_remaining',\n",
    "               'text',\n",
    "               'score_value',\n",
    "               'yards']] \n",
    "\n",
    "\n",
    "plays['start_down'] = plays['start_down'].apply(lambda x: x if x >= 0 else 0)\n",
    "plays['end_down'] = plays['end_down'].apply(lambda x: x if x >= 0 else 0)\n",
    "\n",
    "# WHERE play_type is null, plays such as aborted/pending etc.\n",
    "plays.loc[(plays['play_type'].isnull()),'play_type']= 'Miscellaneous'\n",
    "\n",
    "plays[['start_down', 'end_down', 'quarter', \n",
    "       'seconds_remaining', 'score_value', 'yards']] = plays[['start_down', 'end_down', 'quarter', \n",
    "                                                              'seconds_remaining', 'score_value', 'yards']].astype('int64')\n",
    "\n",
    "plays.info(verbose=True)"
   ]
  },
  {
   "cell_type": "markdown",
   "id": "bc4d9d1d-4981-41ff-b709-49d22ac8a0f5",
   "metadata": {},
   "source": [
    "# Player_plays"
   ]
  },
  {
   "cell_type": "code",
   "execution_count": 15,
   "id": "6a7e67ce-e625-4313-8bf5-48417237f8fa",
   "metadata": {},
   "outputs": [
    {
     "name": "stdout",
     "output_type": "stream",
     "text": [
      "<class 'pandas.core.frame.DataFrame'>\n",
      "Int64Index: 1117098 entries, 0 to 1181784\n",
      "Data columns (total 4 columns):\n",
      " #   Column     Non-Null Count    Dtype \n",
      "---  ------     --------------    ----- \n",
      " 0   play_id    1117098 non-null  object\n",
      " 1   game_id    1117098 non-null  int64 \n",
      " 2   player_id  1117098 non-null  object\n",
      " 3   type       1117098 non-null  object\n",
      "dtypes: int64(1), object(3)\n",
      "memory usage: 42.6+ MB\n"
     ]
    }
   ],
   "source": [
    "def eachrow(play):\n",
    "    try:\n",
    "        for player in play['participants']: \n",
    "            player_url = player['athlete']['$ref']\n",
    "            player_id = re.search(r'(?<=athletes/)[0-9]+(?=\\?)', player_url).group(0)\n",
    "            player_plays.loc[len(player_plays.index)] = [play['play_id'],play['game_id'], player_id,player['type']]\n",
    "    except: pass\n",
    "        \n",
    "junk = temp.apply(eachrow, axis=1)\n",
    "player_plays.drop_duplicates(inplace=True)\n",
    "player_plays.info(verbose=True)"
   ]
  },
  {
   "cell_type": "markdown",
   "id": "6122f073-29d0-4d9e-98c7-c8b8634ec171",
   "metadata": {},
   "source": [
    "##### Check for game_ids IN player_plays & NOT IN games "
   ]
  },
  {
   "cell_type": "code",
   "execution_count": 16,
   "id": "daed1dbe-9b90-4d09-be3a-f0ee5bf6a450",
   "metadata": {},
   "outputs": [
    {
     "data": {
      "text/html": [
       "<div>\n",
       "<style scoped>\n",
       "    .dataframe tbody tr th:only-of-type {\n",
       "        vertical-align: middle;\n",
       "    }\n",
       "\n",
       "    .dataframe tbody tr th {\n",
       "        vertical-align: top;\n",
       "    }\n",
       "\n",
       "    .dataframe thead th {\n",
       "        text-align: right;\n",
       "    }\n",
       "</style>\n",
       "<table border=\"1\" class=\"dataframe\">\n",
       "  <thead>\n",
       "    <tr style=\"text-align: right;\">\n",
       "      <th></th>\n",
       "      <th>play_id</th>\n",
       "      <th>game_id</th>\n",
       "      <th>player_id</th>\n",
       "      <th>type</th>\n",
       "      <th>date</th>\n",
       "      <th>attendance</th>\n",
       "      <th>utc_time</th>\n",
       "      <th>venue_name</th>\n",
       "      <th>home_team_name</th>\n",
       "      <th>away_team_name</th>\n",
       "    </tr>\n",
       "  </thead>\n",
       "  <tbody>\n",
       "  </tbody>\n",
       "</table>\n",
       "</div>"
      ],
      "text/plain": [
       "Empty DataFrame\n",
       "Columns: [play_id, game_id, player_id, type, date, attendance, utc_time, venue_name, home_team_name, away_team_name]\n",
       "Index: []"
      ]
     },
     "execution_count": 16,
     "metadata": {},
     "output_type": "execute_result"
    }
   ],
   "source": [
    "df_joined = pd.merge(player_plays, games, how=\"left\",on ='game_id')\n",
    "df_joined[df_joined['date'].isnull()]"
   ]
  },
  {
   "cell_type": "markdown",
   "id": "a0692639-b4ad-4197-97f5-33695161803b",
   "metadata": {},
   "source": [
    "##### Check for athlete_ids IN player_plays & NOT IN athletes "
   ]
  },
  {
   "cell_type": "code",
   "execution_count": 17,
   "id": "e243dce5-eab4-4c12-88b3-9a856749732f",
   "metadata": {},
   "outputs": [
    {
     "name": "stdout",
     "output_type": "stream",
     "text": [
      "<class 'pandas.core.series.Series'>\n",
      "Int64Index: 275 entries, 1697 to 823131\n",
      "Series name: player_id\n",
      "Non-Null Count  Dtype \n",
      "--------------  ----- \n",
      "275 non-null    object\n",
      "dtypes: object(1)\n",
      "memory usage: 4.3+ KB\n",
      "https://www.espn.com/nfl/player/_/id/12454\n",
      "https://www.espn.com/nfl/player/_/id/3948547\n",
      "https://www.espn.com/nfl/player/_/id/3954722\n",
      "https://www.espn.com/nfl/player/_/id/3956754\n",
      "https://www.espn.com/nfl/player/_/id/3956762\n",
      "https://www.espn.com/nfl/player/_/id/3956760\n",
      "https://www.espn.com/nfl/player/_/id/3956761\n",
      "https://www.espn.com/nfl/player/_/id/3956767\n",
      "https://www.espn.com/nfl/player/_/id/4070083\n",
      "https://www.espn.com/nfl/player/_/id/4070082\n",
      "https://www.espn.com/nfl/player/_/id/4070732\n",
      "https://www.espn.com/nfl/player/_/id/4071340\n",
      "https://www.espn.com/nfl/player/_/id/4072194\n",
      "https://www.espn.com/nfl/player/_/id/4072196\n",
      "https://www.espn.com/nfl/player/_/id/4073908\n",
      "https://www.espn.com/nfl/player/_/id/4076262\n",
      "https://www.espn.com/nfl/player/_/id/4076275\n",
      "https://www.espn.com/nfl/player/_/id/4077045\n",
      "https://www.espn.com/nfl/player/_/id/4078511\n",
      "https://www.espn.com/nfl/player/_/id/4079281\n",
      "https://www.espn.com/nfl/player/_/id/3052549\n",
      "https://www.espn.com/nfl/player/_/id/3126021\n",
      "<class 'pandas.core.frame.DataFrame'>\n",
      "Int64Index: 1116823 entries, 0 to 1181784\n",
      "Data columns (total 4 columns):\n",
      " #   Column     Non-Null Count    Dtype \n",
      "---  ------     --------------    ----- \n",
      " 0   play_id    1116823 non-null  object\n",
      " 1   game_id    1116823 non-null  int64 \n",
      " 2   player_id  1116823 non-null  object\n",
      " 3   type       1116823 non-null  object\n",
      "dtypes: int64(1), object(3)\n",
      "memory usage: 42.6+ MB\n"
     ]
    }
   ],
   "source": [
    "df_joined = player_plays.merge(athletes, left_on='player_id', right_on='athlete_id', how='left')\n",
    "missing_athletes = df_joined[df_joined['athlete_id'].isnull()]['player_id']\n",
    "missing_athletes.info(verbose=True)\n",
    "for a_id in pd.unique(missing_athletes):\n",
    "    print('https://www.espn.com/nfl/player/_/id/{}'.format(a_id))\n",
    "\n",
    "player_plays = player_plays[~player_plays['player_id'].isin(pd.unique(missing_athletes))]\n",
    "player_plays.info(verbose=True)"
   ]
  },
  {
   "cell_type": "markdown",
   "id": "f3104bf4-8e75-43f8-a798-8a5626316a7f",
   "metadata": {},
   "source": [
    "# Review"
   ]
  },
  {
   "cell_type": "code",
   "execution_count": 18,
   "id": "75eb1a20-da79-4113-8093-e518ef399a34",
   "metadata": {},
   "outputs": [
    {
     "name": "stdout",
     "output_type": "stream",
     "text": [
      "<class 'pandas.core.frame.DataFrame'>\n",
      "Int64Index: 2976 entries, 0 to 2975\n",
      "Data columns (total 7 columns):\n",
      " #   Column          Non-Null Count  Dtype \n",
      "---  ------          --------------  ----- \n",
      " 0   game_id         2976 non-null   int64 \n",
      " 1   date            2976 non-null   object\n",
      " 2   attendance      2976 non-null   int64 \n",
      " 3   home_team_name  2976 non-null   object\n",
      " 4   away_team_name  2976 non-null   object\n",
      " 5   venue_name      2976 non-null   object\n",
      " 6   utc_time        2976 non-null   object\n",
      "dtypes: int64(2), object(5)\n",
      "memory usage: 186.0+ KB\n",
      "game_id -------- 2976\n",
      "date -------- 827\n",
      "attendance -------- 2309\n",
      "home_team_name -------- 32\n",
      "away_team_name -------- 32\n",
      "venue_name -------- 46\n",
      "utc_time -------- 48\n"
     ]
    }
   ],
   "source": [
    "games = games[['game_id','date','attendance','home_team_name','away_team_name','venue_name','utc_time']] #Rearrange columns to match SQL file\n",
    "games.info(verbose=True)\n",
    "for column in games.columns.tolist():\n",
    "    print(column,'--------',pd.unique(games[column]).size)"
   ]
  },
  {
   "cell_type": "code",
   "execution_count": 19,
   "id": "ad760992-07fe-4ab6-b100-d443c7cf0980",
   "metadata": {},
   "outputs": [
    {
     "name": "stdout",
     "output_type": "stream",
     "text": [
      "<class 'pandas.core.frame.DataFrame'>\n",
      "Int64Index: 827 entries, 0 to 3584\n",
      "Data columns (total 4 columns):\n",
      " #   Column       Non-Null Count  Dtype \n",
      "---  ------       --------------  ----- \n",
      " 0   date         827 non-null    object\n",
      " 1   season_year  827 non-null    int64 \n",
      " 2   season_type  827 non-null    object\n",
      " 3   week         827 non-null    int64 \n",
      "dtypes: int64(2), object(2)\n",
      "memory usage: 32.3+ KB\n",
      "date -------- 827\n",
      "season_year -------- 12\n",
      "season_type -------- 2\n",
      "week -------- 18\n"
     ]
    }
   ],
   "source": [
    "season_dates.info(verbose=True)\n",
    "for column in season_dates.columns.tolist():\n",
    "    print(column,'--------',pd.unique(season_dates[column]).size)"
   ]
  },
  {
   "cell_type": "code",
   "execution_count": 20,
   "id": "409af73c-c09f-4cc5-b9a1-c8276443aa54",
   "metadata": {},
   "outputs": [
    {
     "name": "stdout",
     "output_type": "stream",
     "text": [
      "<class 'pandas.core.frame.DataFrame'>\n",
      "Int64Index: 24140 entries, 0 to 24139\n",
      "Data columns (total 4 columns):\n",
      " #   Column     Non-Null Count  Dtype \n",
      "---  ------     --------------  ----- \n",
      " 0   game_id    24140 non-null  int64 \n",
      " 1   quarter    24140 non-null  int64 \n",
      " 2   score      24140 non-null  int64 \n",
      " 3   team_name  24140 non-null  object\n",
      "dtypes: int64(3), object(1)\n",
      "memory usage: 943.0+ KB\n",
      "game_id -------- 2974\n",
      "quarter -------- 6\n",
      "score -------- 30\n",
      "team_name -------- 32\n"
     ]
    }
   ],
   "source": [
    "linescores.info(verbose=True)\n",
    "for column in linescores.columns.tolist():\n",
    "    print(column,'--------',pd.unique(linescores[column]).size)"
   ]
  },
  {
   "cell_type": "code",
   "execution_count": 21,
   "id": "19bde349-bddf-46aa-b6fd-f0e6860ae303",
   "metadata": {},
   "outputs": [
    {
     "name": "stdout",
     "output_type": "stream",
     "text": [
      "<class 'pandas.core.frame.DataFrame'>\n",
      "Int64Index: 363075 entries, 0 to 363339\n",
      "Data columns (total 5 columns):\n",
      " #   Column         Non-Null Count   Dtype  \n",
      "---  ------         --------------   -----  \n",
      " 0   game_id        363075 non-null  int64  \n",
      " 1   team_name      363075 non-null  object \n",
      " 2   athlete_id     363075 non-null  object \n",
      " 3   position_name  363075 non-null  object \n",
      " 4   played         363075 non-null  boolean\n",
      "dtypes: boolean(1), int64(1), object(3)\n",
      "memory usage: 14.5+ MB\n",
      "game_id -------- 2974\n",
      "team_name -------- 32\n",
      "athlete_id -------- 7162\n",
      "position_name -------- 24\n",
      "played -------- 2\n"
     ]
    }
   ],
   "source": [
    "rosters = rosters[['game_id','team_name','athlete_id','position_name','played']] #Rearrange columns to match SQL file\n",
    "rosters.info(verbose=True)\n",
    "for column in rosters.columns.tolist():\n",
    "    print(column,'--------',pd.unique(rosters[column]).size)"
   ]
  },
  {
   "cell_type": "code",
   "execution_count": 22,
   "id": "cf1fc53b-fce5-4ec4-88df-e9c79d5115e4",
   "metadata": {},
   "outputs": [
    {
     "name": "stdout",
     "output_type": "stream",
     "text": [
      "<class 'pandas.core.frame.DataFrame'>\n",
      "RangeIndex: 7165 entries, 0 to 7164\n",
      "Data columns (total 8 columns):\n",
      " #   Column       Non-Null Count  Dtype \n",
      "---  ------       --------------  ----- \n",
      " 0   athlete_id   7165 non-null   object\n",
      " 1   first_name   7165 non-null   object\n",
      " 2   last_name    7165 non-null   object\n",
      " 3   dob          7165 non-null   object\n",
      " 4   height       7157 non-null   object\n",
      " 5   weight       7157 non-null   object\n",
      " 6   birth_city   7165 non-null   object\n",
      " 7   birth_state  7165 non-null   object\n",
      "dtypes: object(8)\n",
      "memory usage: 447.9+ KB\n",
      "athlete_id -------- 7165\n",
      "first_name -------- 2362\n",
      "last_name -------- 3861\n",
      "dob -------- 4308\n",
      "height -------- 18\n",
      "weight -------- 208\n",
      "birth_city -------- 2168\n",
      "birth_state -------- 75\n"
     ]
    }
   ],
   "source": [
    "athletes = athletes[['athlete_id','first_name','last_name','dob','height','weight','birth_city','birth_state']] #Rearrange columns to match SQL file\n",
    "athletes.info(verbose=True)\n",
    "for column in athletes.columns.tolist():\n",
    "    print(column,'--------',pd.unique(athletes[column]).size)"
   ]
  },
  {
   "cell_type": "code",
   "execution_count": 23,
   "id": "49da8e4a-e0fa-4926-91fa-9c0f1c21f733",
   "metadata": {},
   "outputs": [
    {
     "name": "stdout",
     "output_type": "stream",
     "text": [
      "<class 'pandas.core.frame.DataFrame'>\n",
      "RangeIndex: 46 entries, 0 to 45\n",
      "Data columns (total 6 columns):\n",
      " #   Column      Non-Null Count  Dtype \n",
      "---  ------      --------------  ----- \n",
      " 0   venue_name  46 non-null     object\n",
      " 1   capacity    46 non-null     int64 \n",
      " 2   city        46 non-null     object\n",
      " 3   state       40 non-null     object\n",
      " 4   grass       46 non-null     bool  \n",
      " 5   indoor      46 non-null     bool  \n",
      "dtypes: bool(2), int64(1), object(3)\n",
      "memory usage: 1.7+ KB\n",
      "venue_name -------- 46\n",
      "capacity -------- 44\n",
      "city -------- 41\n",
      "state -------- 25\n",
      "grass -------- 2\n",
      "indoor -------- 2\n"
     ]
    }
   ],
   "source": [
    "venues = venues[['venue_name','capacity','city','state','grass','indoor']] #Rearrange columns to match SQL file\n",
    "venues.info(verbose=True)\n",
    "for column in venues.columns.tolist():\n",
    "    print(column,'--------',pd.unique(venues[column]).size)"
   ]
  },
  {
   "cell_type": "code",
   "execution_count": 24,
   "id": "ca2a1f24-c96d-42f9-a582-aa32aa8f45fe",
   "metadata": {},
   "outputs": [
    {
     "name": "stdout",
     "output_type": "stream",
     "text": [
      "<class 'pandas.core.frame.DataFrame'>\n",
      "Int64Index: 32 entries, 0 to 31\n",
      "Data columns (total 6 columns):\n",
      " #   Column           Non-Null Count  Dtype \n",
      "---  ------           --------------  ----- \n",
      " 0   team_name        32 non-null     object\n",
      " 1   abbreviation     32 non-null     object\n",
      " 2   location         32 non-null     object\n",
      " 3   venue_name       32 non-null     object\n",
      " 4   primary_color    32 non-null     object\n",
      " 5   secondary_color  32 non-null     object\n",
      "dtypes: object(6)\n",
      "memory usage: 1.8+ KB\n",
      "team_name -------- 32\n",
      "abbreviation -------- 32\n",
      "location -------- 30\n",
      "venue_name -------- 31\n",
      "primary_color -------- 29\n",
      "secondary_color -------- 21\n"
     ]
    }
   ],
   "source": [
    "teams = teams[['team_name','abbreviation','location','venue_name','primary_color','secondary_color']] #Rearrange columns to match SQL file\n",
    "teams.info(verbose=True)\n",
    "for column in teams.columns.tolist():\n",
    "    print(column,'--------',pd.unique(teams[column]).size)"
   ]
  },
  {
   "cell_type": "code",
   "execution_count": 25,
   "id": "fb4ecbb3-07b0-4431-bf07-375ab7618b77",
   "metadata": {},
   "outputs": [
    {
     "name": "stdout",
     "output_type": "stream",
     "text": [
      "<class 'pandas.core.frame.DataFrame'>\n",
      "RangeIndex: 24 entries, 0 to 23\n",
      "Data columns (total 3 columns):\n",
      " #   Column         Non-Null Count  Dtype \n",
      "---  ------         --------------  ----- \n",
      " 0   position_name  24 non-null     object\n",
      " 1   abbreviation   24 non-null     object\n",
      " 2   platoon        22 non-null     object\n",
      "dtypes: object(3)\n",
      "memory usage: 704.0+ bytes\n",
      "position_name -------- 24\n",
      "abbreviation -------- 24\n",
      "platoon -------- 4\n"
     ]
    }
   ],
   "source": [
    "positions.info(verbose=True)\n",
    "for column in positions.columns.tolist():\n",
    "    print(column,'--------',pd.unique(positions[column]).size)"
   ]
  },
  {
   "cell_type": "code",
   "execution_count": 37,
   "id": "196ebbc0-7354-4dc3-af19-118ab335cfdf",
   "metadata": {},
   "outputs": [
    {
     "name": "stdout",
     "output_type": "stream",
     "text": [
      "<class 'pandas.core.frame.DataFrame'>\n",
      "RangeIndex: 522707 entries, 0 to 522706\n",
      "Data columns (total 9 columns):\n",
      " #   Column             Non-Null Count   Dtype \n",
      "---  ------             --------------   ----- \n",
      " 0   play_id            522707 non-null  object\n",
      " 1   quarter            522707 non-null  int64 \n",
      " 2   yards              522707 non-null  int64 \n",
      " 3   score_value        522707 non-null  int64 \n",
      " 4   play_type          522707 non-null  object\n",
      " 5   text               522707 non-null  object\n",
      " 6   seconds_remaining  522707 non-null  int64 \n",
      " 7   start_down         522707 non-null  int64 \n",
      " 8   end_down           522707 non-null  int64 \n",
      "dtypes: int64(6), object(3)\n",
      "memory usage: 35.9+ MB\n",
      "play_id -------- 522707\n",
      "quarter -------- 7\n",
      "yards -------- 155\n",
      "score_value -------- 5\n",
      "play_type -------- 45\n",
      "text -------- 468633\n",
      "seconds_remaining -------- 902\n",
      "start_down -------- 5\n",
      "end_down -------- 5\n"
     ]
    }
   ],
   "source": [
    "plays = plays[['play_id','quarter','yards','score_value','play_type','text','seconds_remaining','start_down','end_down']] #Rearrange columns to match SQL file\n",
    "plays.info(verbose=True)\n",
    "for column in plays.columns.tolist():\n",
    "    print(column,'--------',pd.unique(plays[column]).size)"
   ]
  },
  {
   "cell_type": "code",
   "execution_count": 27,
   "id": "4158dca6-10a3-4fb2-a3ab-039d07ebcc7d",
   "metadata": {},
   "outputs": [
    {
     "name": "stdout",
     "output_type": "stream",
     "text": [
      "<class 'pandas.core.frame.DataFrame'>\n",
      "Int64Index: 1116823 entries, 0 to 1181784\n",
      "Data columns (total 4 columns):\n",
      " #   Column     Non-Null Count    Dtype \n",
      "---  ------     --------------    ----- \n",
      " 0   play_id    1116823 non-null  object\n",
      " 1   player_id  1116823 non-null  object\n",
      " 2   game_id    1116823 non-null  int64 \n",
      " 3   type       1116823 non-null  object\n",
      "dtypes: int64(1), object(3)\n",
      "memory usage: 42.6+ MB\n",
      "play_id -------- 428322\n",
      "player_id -------- 5511\n",
      "game_id -------- 2696\n",
      "type -------- 20\n"
     ]
    }
   ],
   "source": [
    "player_plays = player_plays[['play_id','player_id','game_id','type']] #Rearrange columns to match SQL file\n",
    "player_plays.info(verbose=True)\n",
    "for column in player_plays.columns.tolist():\n",
    "    print(column,'--------',pd.unique(player_plays[column]).size)"
   ]
  },
  {
   "cell_type": "markdown",
   "id": "9e2b2fc7-023f-4fc0-92e7-5231bea0b4cf",
   "metadata": {},
   "source": [
    "# Save"
   ]
  },
  {
   "cell_type": "code",
   "execution_count": 38,
   "id": "303fe76e-897d-43c4-a67d-5d7cae861ce0",
   "metadata": {},
   "outputs": [],
   "source": [
    "#######################################\n",
    "games.to_csv('data/games.csv', index=False)\n",
    "season_dates.to_csv('data/season_dates.csv', index=False)\n",
    "linescores.to_csv('data/linescores.csv', index=False)\n",
    "rosters.to_csv('data/rosters.csv', index=False)\n",
    "athletes.to_csv('data/athletes.csv', index=False)\n",
    "venues.to_csv('data/venues.csv', index=False)\n",
    "teams.to_csv('data/teams.csv', index=False)\n",
    "positions.to_csv('data/positions.csv', index=False)\n",
    "plays.to_csv('data/plays.csv', index=False)\n",
    "player_plays.to_csv('data/player_plays.csv', index=False)\n",
    "#######################################"
   ]
  },
  {
   "cell_type": "code",
   "execution_count": 29,
   "id": "6b339bb7",
   "metadata": {},
   "outputs": [
    {
     "ename": "SyntaxError",
     "evalue": "unmatched ')' (2155285666.py, line 1)",
     "output_type": "error",
     "traceback": [
      "\u001b[1;36m  Cell \u001b[1;32mIn[29], line 1\u001b[1;36m\u001b[0m\n\u001b[1;33m    : )\u001b[0m\n\u001b[1;37m      ^\u001b[0m\n\u001b[1;31mSyntaxError\u001b[0m\u001b[1;31m:\u001b[0m unmatched ')'\n"
     ]
    }
   ],
   "source": [
    ": )"
   ]
  },
  {
   "cell_type": "code",
   "execution_count": null,
   "id": "a87259d9-c802-46d6-90dc-dd816d48b2ad",
   "metadata": {},
   "outputs": [],
   "source": []
  }
 ],
 "metadata": {
  "kernelspec": {
   "display_name": "Python 3 (ipykernel)",
   "language": "python",
   "name": "python3"
  },
  "language_info": {
   "codemirror_mode": {
    "name": "ipython",
    "version": 3
   },
   "file_extension": ".py",
   "mimetype": "text/x-python",
   "name": "python",
   "nbconvert_exporter": "python",
   "pygments_lexer": "ipython3",
   "version": "3.10.13"
  }
 },
 "nbformat": 4,
 "nbformat_minor": 5
}
