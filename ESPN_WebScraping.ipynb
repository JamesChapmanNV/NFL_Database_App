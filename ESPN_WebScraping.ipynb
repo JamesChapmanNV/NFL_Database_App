{
 "cells": [
  {
   "cell_type": "markdown",
   "id": "41766c29-f730-4821-ab69-212548c9d4f9",
   "metadata": {},
   "source": [
    "# NFL Database Project: WebScraping & data collection\n",
    "<br>\n",
    "CIS 761 Database Management Systems – Term Project<br>\n",
    "Kansas State University\n",
    "<br><br>\n",
    "Vishnu Bondalakunta<br>\n",
    "Charles Zumbaugh<br>\n",
    "James Chapman<br>\n",
    "<br>"
   ]
  },
  {
   "cell_type": "markdown",
   "id": "2ed33903-f986-4275-b4f9-1ab3a9c9af14",
   "metadata": {},
   "source": [
    "#### This notebook uses the public ESPN API. The URLs and endpoints were found in the following GitHub link. ESPN does not provide official documentation.\n",
    "\n",
    "* ## [List of NFL API Endpoints](https://gist.github.com/nntrn/ee26cb2a0716de0947a0a4e9a157bc1c#event-competitions-api)\n",
    "\n",
    "#### 4 tables are collected and saved as CSV files, which is used to populate the NFL database.\n",
    "* games\n",
    "* rosters\n",
    "* athletes\n",
    "* venues\n",
    "* teams "
   ]
  },
  {
   "cell_type": "code",
   "execution_count": 1,
   "id": "4fbb51b4",
   "metadata": {},
   "outputs": [],
   "source": [
    "import pandas as pd\n",
    "import numpy as np\n",
    "import requests\n",
    "import re"
   ]
  },
  {
   "cell_type": "code",
   "execution_count": 2,
   "id": "101ec647-e2b6-4552-931b-5981135229a7",
   "metadata": {},
   "outputs": [],
   "source": [
    "years = range(2013,2024) # ! Keep track of calendar year and NFL season year\n",
    "\n",
    "ESPN_EVENTS = 'https://site.api.espn.com/apis/site/v2/sports/football/nfl/scoreboard?limit=1000&dates={}' #.format(year)\n",
    "ESPN_ROSTERS = 'https://sports.core.api.espn.com/v2/sports/football/leagues/nfl/events/{}/competitions/{}/competitors/{}/roster' #.format(game_id,game_id,team_id)\n",
    "ESPN_ATHLETE_INFO = 'https://site.web.api.espn.com/apis/common/v3/sports/football/nfl/athletes/{}' #.format(player_id)\n",
    "ESPN_VENUE_INFO = 'http://sports.core.api.espn.com/v2/sports/football/leagues/nfl/venues/{}' #.format(venue_id)\n",
    "ESPN_TEAM_INFO = 'https://site.api.espn.com/apis/site/v2/sports/football/nfl/teams/{}' #.format(team_id)\n",
    "ESPN_POSITION_INFO = 'http://sports.core.api.espn.com/v2/sports/football/leagues/nfl/positions/{}' #.format(position_id)\n",
    "\n",
    "ESPN_STATISTICS = 'https://sports.core.api.espn.com/v2/sports/football/leagues/nfl/events/{}/competitions/{}/competitors/{}/roster/{}/statistics/0' #.format(game_id,game_id,team_id,player_id)"
   ]
  },
  {
   "cell_type": "markdown",
   "id": "e33829d6-bc7a-4f17-8c01-a5ddc19701ec",
   "metadata": {},
   "source": [
    "# Games"
   ]
  },
  {
   "cell_type": "code",
   "execution_count": 3,
   "id": "300ee171-270d-47ee-a8f5-2f8556604e77",
   "metadata": {},
   "outputs": [
    {
     "name": "stdout",
     "output_type": "stream",
     "text": [
      "<class 'pandas.core.frame.DataFrame'>\n",
      "Int64Index: 2986 entries, 0 to 3584\n",
      "Data columns (total 15 columns):\n",
      " #   Column         Non-Null Count  Dtype \n",
      "---  ------         --------------  ----- \n",
      " 0   game_id        2986 non-null   object\n",
      " 1   year           2986 non-null   int64 \n",
      " 2   season_type    2986 non-null   int64 \n",
      " 3   week           2986 non-null   int64 \n",
      " 4   date           2986 non-null   object\n",
      " 5   name           2986 non-null   object\n",
      " 6   shortName      2986 non-null   object\n",
      " 7   attendance     2986 non-null   int64 \n",
      " 8   venue_id       2986 non-null   object\n",
      " 9   home_team_id   2986 non-null   object\n",
      " 10  home_score     2986 non-null   object\n",
      " 11  away_team_id   2986 non-null   object\n",
      " 12  away_score     2986 non-null   object\n",
      " 13  home_win_bool  2986 non-null   bool  \n",
      " 14  away_win_bool  2986 non-null   bool  \n",
      "dtypes: bool(2), int64(4), object(9)\n",
      "memory usage: 332.4+ KB\n"
     ]
    }
   ],
   "source": [
    "games = pd.DataFrame()\n",
    "for year in years:\n",
    "    try:\n",
    "        events = requests.get(ESPN_EVENTS.format(year)).json()\n",
    "        yearlyEvents = pd.json_normalize(events['events'])\n",
    "        games = pd.concat([games, yearlyEvents], ignore_index=True)\n",
    "    except: \n",
    "        print(year)\n",
    "\n",
    "# games['competitions'] is a list of dictionaries \n",
    "games['attendance'] = games['competitions'].apply(lambda x : x[0]['attendance'])\n",
    "games['venue_id'] = games['competitions'].apply(lambda x : x[0]['venue']['id'])\n",
    "\n",
    "# games['competitions'][0]['competitors'] is a list of 2 dictionaries (home and away).\n",
    "games['competitors'] = games['competitions'].apply(lambda x : x[0]['competitors'])\n",
    "games['home_team_id'] = games['competitors'].apply(lambda x : x[0]['id'])\n",
    "games['home_score'] = games['competitors'].apply(lambda x : x[0]['score'])\n",
    "games['away_team_id'] = games['competitors'].apply(lambda x : x[1]['id'])\n",
    "games['away_score'] = games['competitors'].apply(lambda x : x[1]['score'])\n",
    "\n",
    "# games['competitors']['winner'] is a Boolean win/lose, but there are ties! \n",
    "# On 2nd thought, we could just compare the score\n",
    "def tietest(x):\n",
    "    try: return x[0]['winner']\n",
    "    except KeyError: return False\n",
    "games['home_win_bool'] = games['competitors'].apply(tietest)\n",
    "\n",
    "def tietest(x):\n",
    "    try: return x[1]['winner']\n",
    "    except KeyError: return False\n",
    "games['away_win_bool'] = games['competitors'].apply(tietest)\n",
    "\n",
    "# Drop pre-season and off-season\n",
    "games = games.drop(games[(games['season.type']== 1)].index)\n",
    "games = games.drop(games[(games['season.type']== 4)].index)\n",
    "\n",
    "# Drop rows\n",
    "games = games[['id','season.year','season.type','week.number','date','name','shortName','attendance',\n",
    "               'venue_id','home_team_id','home_score','away_team_id','away_score','home_win_bool','away_win_bool']]\n",
    "games = games.rename(columns={'id':'game_id','season.year':'year','season.type':'season_type','week.number':'week'})\n",
    "games.info(verbose=True)"
   ]
  },
  {
   "cell_type": "markdown",
   "id": "f37424e6-1098-4a4a-ad57-410fffbbb5b5",
   "metadata": {},
   "source": [
    "# Rosters \n",
    "\n",
    "The rosters URL lists all players under 'entries'. But the position is something like this…<br>\n",
    "$ref : \"http://sports.core.api.espn.com/v2/sports/football/leagues/nfl/positions/46?lang=en&region=us\" <br>\r\n",
    "This just splits the link at \"positions\" giving \"/46?lang=en&region=us\"\n",
    "and then takes only numbers \"46\"\n",
    "\n",
    "\r\n"
   ]
  },
  {
   "cell_type": "code",
   "execution_count": 4,
   "id": "9b801772-a035-4ebe-a408-30b26b919c6f",
   "metadata": {
    "scrolled": true
   },
   "outputs": [
    {
     "name": "stdout",
     "output_type": "stream",
     "text": [
      "game_id                  330127032\n",
      "year                          2012\n",
      "season_type                      3\n",
      "week                             4\n",
      "date             2013-01-28T00:30Z\n",
      "name                  Afc  at Nfc \n",
      "shortName                AFC @ NFC\n",
      "attendance                       0\n",
      "venue_id                      3610\n",
      "home_team_id                    32\n",
      "home_score                      62\n",
      "away_team_id                    31\n",
      "away_score                      35\n",
      "home_win_bool                 True\n",
      "away_win_bool                False\n",
      "Name: 10, dtype: object\n",
      "game_id                          340126035\n",
      "year                                  2013\n",
      "season_type                              3\n",
      "week                                     4\n",
      "date                     2014-01-27T00:30Z\n",
      "name             Team Rice at Team Sanders\n",
      "shortName                        RIC @ SAN\n",
      "attendance                               0\n",
      "venue_id                              3610\n",
      "home_team_id                            35\n",
      "home_score                              21\n",
      "away_team_id                            36\n",
      "away_score                              22\n",
      "home_win_bool                        False\n",
      "away_win_bool                         True\n",
      "Name: 343, dtype: object\n",
      "game_id                               400554331\n",
      "year                                       2014\n",
      "season_type                                   2\n",
      "week                                         12\n",
      "date                          2014-11-23T18:00Z\n",
      "name             New York Jets at Buffalo Bills\n",
      "shortName                             NYJ @ BUF\n",
      "attendance                                    0\n",
      "venue_id                                   3883\n",
      "home_team_id                                  2\n",
      "home_score                                    0\n",
      "away_team_id                                 20\n",
      "away_score                                    0\n",
      "home_win_bool                             False\n",
      "away_win_bool                             False\n",
      "Name: 584, dtype: object\n",
      "game_id                                    400874729\n",
      "year                                            2016\n",
      "season_type                                        2\n",
      "week                                              13\n",
      "date                               2016-12-06T01:30Z\n",
      "name             Indianapolis Colts at New York Jets\n",
      "shortName                                  IND @ NYJ\n",
      "attendance                                     78160\n",
      "venue_id                                        3839\n",
      "home_team_id                                      20\n",
      "home_score                                        10\n",
      "away_team_id                                      11\n",
      "away_score                                        41\n",
      "home_win_bool                                  False\n",
      "away_win_bool                                   True\n",
      "Name: 1267, dtype: object\n",
      "<class 'pandas.core.frame.DataFrame'>\n",
      "Int64Index: 364111 entries, 0 to 364110\n",
      "Data columns (total 6 columns):\n",
      " #   Column       Non-Null Count   Dtype \n",
      "---  ------       --------------   ----- \n",
      " 0   game_id      364111 non-null  object\n",
      " 1   team_id      364111 non-null  object\n",
      " 2   athlete_id   364111 non-null  int64 \n",
      " 3   position_id  364111 non-null  object\n",
      " 4   active       364111 non-null  bool  \n",
      " 5   didNotPlay   364111 non-null  bool  \n",
      "dtypes: bool(2), int64(1), object(3)\n",
      "memory usage: 14.6+ MB\n"
     ]
    }
   ],
   "source": [
    "rosters = pd.DataFrame(columns = [\"game_id\", \"team_id\", \"athlete_id\",\"position_id\",\"active\",\"didNotPlay\"])\n",
    "def eachrow(game):\n",
    "    temp_game_id = game['game_id']\n",
    "    temp_home_team_id = game['home_team_id']\n",
    "    temp_away_team_id = game['away_team_id']\n",
    "\n",
    "    try:\n",
    "        homeRoster = requests.get(ESPN_ROSTERS.format(temp_game_id,temp_game_id,temp_home_team_id)).json()\n",
    "        for player in homeRoster['entries']:\n",
    "            split = re.split(\"positions\", player['position']['$ref'])\n",
    "            position_id = re.sub(\"[^0-9.]\", \"\", split[1])\n",
    "            rosters.loc[len(rosters.index)] = [temp_game_id, \n",
    "                                                temp_home_team_id,\n",
    "                                                player['playerId'], \n",
    "                                                position_id, \n",
    "                                                player['active'], \n",
    "                                                player['didNotPlay']]\n",
    "    \n",
    "        awayRoster = requests.get(ESPN_ROSTERS.format(temp_game_id,temp_game_id,temp_away_team_id)).json()\n",
    "        # print(temp_game_id, temp_home_team_id, temp_away_team_id, len(homeRoster['entries']), len(awayRoster['entries']))\n",
    "        for player in awayRoster['entries']:\n",
    "            split = re.split(\"positions\", player['position']['$ref'])\n",
    "            position_id = re.sub(\"[^0-9.]\", \"\", split[1])\n",
    "            rosters.loc[len(rosters.index)] = [temp_game_id, \n",
    "                                                temp_home_team_id,\n",
    "                                                player['playerId'], \n",
    "                                                position_id, \n",
    "                                                player['active'], \n",
    "                                                player['didNotPlay']]\n",
    "    except:\n",
    "        print(game)\n",
    "\n",
    "games.apply(eachrow, axis=1)\n",
    "# games = games.drop(columns=['competitors'])\n",
    "rosters.info(verbose=True)"
   ]
  },
  {
   "cell_type": "markdown",
   "id": "9b825c8b-b46b-426c-939c-1a3a45c932f8",
   "metadata": {},
   "source": [
    "# Athletes "
   ]
  },
  {
   "cell_type": "code",
   "execution_count": 8,
   "id": "28a6ba98-f344-4ed3-bec8-57406f10c342",
   "metadata": {},
   "outputs": [
    {
     "name": "stdout",
     "output_type": "stream",
     "text": [
      "4568981\n",
      "<class 'pandas.core.frame.DataFrame'>\n",
      "RangeIndex: 7166 entries, 0 to 7165\n",
      "Data columns (total 12 columns):\n",
      " #   Column             Non-Null Count  Dtype  \n",
      "---  ------             --------------  -----  \n",
      " 0   athlete_id         7166 non-null   object \n",
      " 1   firstName          7166 non-null   object \n",
      " 2   lastName           7166 non-null   object \n",
      " 3   displayName        7166 non-null   object \n",
      " 4   fullName           7166 non-null   object \n",
      " 5   debutYear          5871 non-null   float64\n",
      " 6   displayBirthPlace  6744 non-null   object \n",
      " 7   displayHeight      7158 non-null   object \n",
      " 8   displayWeight      7158 non-null   object \n",
      " 9   displayDOB         7121 non-null   object \n",
      " 10  age                7121 non-null   float64\n",
      " 11  displayDraft       4010 non-null   object \n",
      "dtypes: float64(2), object(10)\n",
      "memory usage: 671.9+ KB\n"
     ]
    }
   ],
   "source": [
    "athletes = pd.DataFrame()\n",
    "for athlete_id in pd.unique(rosters['athlete_id']):\n",
    "    try:\n",
    "        athlete_info = requests.get(ESPN_ATHLETE_INFO.format(athlete_id)).json()\n",
    "        athlete_info = pd.json_normalize(athlete_info['athlete'])\n",
    "        athletes = pd.concat([athletes, athlete_info], ignore_index=True)\n",
    "    except: \n",
    "        print(athlete_id)\n",
    "\n",
    "# Drop rows\n",
    "athletes = athletes[['id',\n",
    "                     'firstName',\n",
    "                     'lastName',\n",
    "                     'displayName',\n",
    "                     'fullName',\n",
    "                     'debutYear',\n",
    "                     'displayBirthPlace',\n",
    "                     'displayHeight',\n",
    "                     'displayWeight',\n",
    "                     'displayDOB',\n",
    "                     'age',\n",
    "                     'displayDraft']]\n",
    "                     #'college.id',\n",
    "                     #'jersey',\n",
    "                     #'displayJersey',\n",
    "                     #'displayExperience',\n",
    "                     #'position.id',\n",
    "                     #'team.id',\n",
    "                     #'collegeTeam.id',\n",
    "                     #'collegeAthlete.id'\n",
    "athletes = athletes.rename(columns={'id':'athlete_id'})\n",
    "\n",
    "athletes.info(verbose=True)"
   ]
  },
  {
   "cell_type": "markdown",
   "id": "a9fcc6c0-97ed-49bc-be98-884e1e5afa51",
   "metadata": {},
   "source": [
    "# Venues"
   ]
  },
  {
   "cell_type": "code",
   "execution_count": 10,
   "id": "12b3cc48-3600-4d60-b235-69bc40e17cc0",
   "metadata": {},
   "outputs": [
    {
     "name": "stdout",
     "output_type": "stream",
     "text": [
      "<class 'pandas.core.frame.DataFrame'>\n",
      "RangeIndex: 48 entries, 0 to 47\n",
      "Data columns (total 8 columns):\n",
      " #   Column    Non-Null Count  Dtype \n",
      "---  ------    --------------  ----- \n",
      " 0   venue_id  48 non-null     object\n",
      " 1   fullName  48 non-null     object\n",
      " 2   capacity  48 non-null     int64 \n",
      " 3   grass     48 non-null     bool  \n",
      " 4   indoor    48 non-null     bool  \n",
      " 5   city      48 non-null     object\n",
      " 6   state     42 non-null     object\n",
      " 7   zipCode   38 non-null     object\n",
      "dtypes: bool(2), int64(1), object(5)\n",
      "memory usage: 2.5+ KB\n"
     ]
    }
   ],
   "source": [
    "venues = pd.DataFrame()\n",
    "for venue_id in pd.unique(games['venue_id']):\n",
    "    try:\n",
    "        venue_info = requests.get(ESPN_VENUE_INFO.format(venue_id)).json()\n",
    "        venue_info = pd.json_normalize(venue_info)\n",
    "        venues = pd.concat([venues, venue_info], ignore_index=True)\n",
    "    except: \n",
    "        print(venue_id)\n",
    "\n",
    "# # Drop rows\n",
    "venues = venues[['id',\n",
    "                 'fullName',\n",
    "                 'capacity',\n",
    "                 'grass',\n",
    "                 'indoor',\n",
    "                 'address.city',\n",
    "                 'address.state',\n",
    "                 'address.zipCode']]\n",
    "venues = venues.rename(columns={'id':'venue_id',\n",
    "                                'address.city':'city',\n",
    "                                'address.state':'state',\n",
    "                                'address.zipCode':'zipCode'})\n",
    "venues.info(verbose=True)"
   ]
  },
  {
   "cell_type": "markdown",
   "id": "27c231af-b721-4b97-a9bb-2f05a03aa7e6",
   "metadata": {},
   "source": [
    "# Teams"
   ]
  },
  {
   "cell_type": "code",
   "execution_count": 11,
   "id": "57666c97-de78-4ad7-a90a-8a6087f25d14",
   "metadata": {},
   "outputs": [
    {
     "name": "stdout",
     "output_type": "stream",
     "text": [
      "<class 'pandas.core.frame.DataFrame'>\n",
      "RangeIndex: 36 entries, 0 to 35\n",
      "Data columns (total 11 columns):\n",
      " #   Column            Non-Null Count  Dtype \n",
      "---  ------            --------------  ----- \n",
      " 0   team_id           36 non-null     object\n",
      " 1   slug              36 non-null     object\n",
      " 2   location          36 non-null     object\n",
      " 3   name              34 non-null     object\n",
      " 4   nickname          36 non-null     object\n",
      " 5   abbreviation      36 non-null     object\n",
      " 6   displayName       36 non-null     object\n",
      " 7   shortDisplayName  36 non-null     object\n",
      " 8   color             34 non-null     object\n",
      " 9   alternateColor    32 non-null     object\n",
      " 10  franchise_id      36 non-null     object\n",
      "dtypes: object(11)\n",
      "memory usage: 3.2+ KB\n"
     ]
    }
   ],
   "source": [
    "teams = pd.DataFrame()\n",
    "for team_id in pd.unique(games['home_team_id']):\n",
    "    try:\n",
    "        team_info = requests.get(ESPN_TEAM_INFO.format(team_id)).json()\n",
    "        team_info = pd.json_normalize(team_info)\n",
    "        teams = pd.concat([teams, team_info], ignore_index=True)\n",
    "    except: \n",
    "        print(team_id)\n",
    "\n",
    "# # Drop rows\n",
    "teams = teams[['team.id',\n",
    "                 'team.slug',\n",
    "                 'team.location',\n",
    "                 'team.name',\n",
    "                 'team.nickname',\n",
    "                 'team.abbreviation',\n",
    "                 'team.displayName',\n",
    "                 'team.shortDisplayName',\n",
    "                 'team.color',\n",
    "                 'team.alternateColor',\n",
    "                 'team.franchise.id']]\n",
    "teams = teams.rename(columns={'team.id':'team_id',\n",
    "                             'team.slug':'slug',\n",
    "                             'team.location':'location',\n",
    "                             'team.name':'name',\n",
    "                             'team.nickname':'nickname',\n",
    "                             'team.abbreviation':'abbreviation',\n",
    "                             'team.displayName':'displayName',\n",
    "                             'team.shortDisplayName':'shortDisplayName',\n",
    "                             'team.color':'color',\n",
    "                             'team.alternateColor':'alternateColor',\n",
    "                             'team.franchise.id':'franchise_id'})\n",
    "\n",
    "teams.info(verbose=True)"
   ]
  },
  {
   "cell_type": "markdown",
   "id": "a4e0be8e-dfcf-4e34-b7d6-5f9d413158d9",
   "metadata": {},
   "source": [
    "# Positions"
   ]
  },
  {
   "cell_type": "code",
   "execution_count": 12,
   "id": "f3bccf3e-e673-4536-bed6-e40c99ddc734",
   "metadata": {},
   "outputs": [
    {
     "name": "stdout",
     "output_type": "stream",
     "text": [
      "<class 'pandas.core.frame.DataFrame'>\n",
      "RangeIndex: 24 entries, 0 to 23\n",
      "Data columns (total 4 columns):\n",
      " #   Column        Non-Null Count  Dtype \n",
      "---  ------        --------------  ----- \n",
      " 0   id            24 non-null     object\n",
      " 1   name          24 non-null     object\n",
      " 2   displayName   24 non-null     object\n",
      " 3   abbreviation  24 non-null     object\n",
      "dtypes: object(4)\n",
      "memory usage: 896.0+ bytes\n"
     ]
    }
   ],
   "source": [
    "positions = pd.DataFrame()\n",
    "for position_id in pd.unique(rosters['position_id']):\n",
    "    try:\n",
    "        position_info = requests.get(ESPN_POSITION_INFO.format(position_id)).json()\n",
    "        position_info = pd.json_normalize(position_info)\n",
    "        positions = pd.concat([positions, position_info], ignore_index=True)\n",
    "    except: \n",
    "        print(position_info)\n",
    "\n",
    "# Drop rows\n",
    "positions = positions[['id', 'name', 'displayName', 'abbreviation']]\n",
    "positions = positions.rename(columns={'position_id':'id'})\n",
    "\n",
    "positions.info(verbose=True)"
   ]
  },
  {
   "cell_type": "markdown",
   "id": "4bddb09d-ef54-4422-b63c-918266b92f99",
   "metadata": {},
   "source": [
    "# Review"
   ]
  },
  {
   "cell_type": "code",
   "execution_count": 13,
   "id": "75eb1a20-da79-4113-8093-e518ef399a34",
   "metadata": {},
   "outputs": [
    {
     "name": "stdout",
     "output_type": "stream",
     "text": [
      "<class 'pandas.core.frame.DataFrame'>\n",
      "Int64Index: 2986 entries, 0 to 3584\n",
      "Data columns (total 15 columns):\n",
      " #   Column         Non-Null Count  Dtype \n",
      "---  ------         --------------  ----- \n",
      " 0   game_id        2986 non-null   object\n",
      " 1   year           2986 non-null   int64 \n",
      " 2   season_type    2986 non-null   int64 \n",
      " 3   week           2986 non-null   int64 \n",
      " 4   date           2986 non-null   object\n",
      " 5   name           2986 non-null   object\n",
      " 6   shortName      2986 non-null   object\n",
      " 7   attendance     2986 non-null   int64 \n",
      " 8   venue_id       2986 non-null   object\n",
      " 9   home_team_id   2986 non-null   object\n",
      " 10  home_score     2986 non-null   object\n",
      " 11  away_team_id   2986 non-null   object\n",
      " 12  away_score     2986 non-null   object\n",
      " 13  home_win_bool  2986 non-null   bool  \n",
      " 14  away_win_bool  2986 non-null   bool  \n",
      "dtypes: bool(2), int64(4), object(9)\n",
      "memory usage: 332.4+ KB\n",
      "game_id -------- 2986\n",
      "year -------- 12\n",
      "season_type -------- 2\n",
      "week -------- 18\n",
      "date -------- 1339\n",
      "name -------- 1160\n",
      "shortName -------- 1144\n",
      "attendance -------- 2315\n",
      "venue_id -------- 48\n",
      "home_team_id -------- 36\n",
      "home_score -------- 58\n",
      "away_team_id -------- 36\n",
      "away_score -------- 51\n",
      "home_win_bool -------- 2\n",
      "away_win_bool -------- 2\n"
     ]
    }
   ],
   "source": [
    "games.info(verbose=True)\n",
    "for column in games.columns.tolist():\n",
    "    try:\n",
    "        print(column,'--------',pd.unique(games[column]).size)\n",
    "    except:\n",
    "        print(column)"
   ]
  },
  {
   "cell_type": "code",
   "execution_count": 14,
   "id": "19bde349-bddf-46aa-b6fd-f0e6860ae303",
   "metadata": {},
   "outputs": [
    {
     "name": "stdout",
     "output_type": "stream",
     "text": [
      "<class 'pandas.core.frame.DataFrame'>\n",
      "Int64Index: 364111 entries, 0 to 364110\n",
      "Data columns (total 6 columns):\n",
      " #   Column       Non-Null Count   Dtype \n",
      "---  ------       --------------   ----- \n",
      " 0   game_id      364111 non-null  object\n",
      " 1   team_id      364111 non-null  object\n",
      " 2   athlete_id   364111 non-null  int64 \n",
      " 3   position_id  364111 non-null  object\n",
      " 4   active       364111 non-null  bool  \n",
      " 5   didNotPlay   364111 non-null  bool  \n",
      "dtypes: bool(2), int64(1), object(3)\n",
      "memory usage: 14.6+ MB\n",
      "game_id -------- 2982\n",
      "team_id -------- 36\n",
      "athlete_id -------- 7167\n",
      "position_id -------- 24\n",
      "active -------- 2\n",
      "didNotPlay -------- 2\n"
     ]
    }
   ],
   "source": [
    "rosters.info(verbose=True)\n",
    "for column in rosters.columns.tolist():\n",
    "    try:\n",
    "        print(column,'--------',pd.unique(rosters[column]).size)\n",
    "    except:\n",
    "        print(column)"
   ]
  },
  {
   "cell_type": "code",
   "execution_count": 22,
   "id": "620db9b7-7861-424e-bdfa-965aae545a64",
   "metadata": {},
   "outputs": [
    {
     "data": {
      "text/plain": [
       "array([2003., 2004., 2005., 2006., 2008., 2009., 2010., 2011., 2012.,\n",
       "       2001., 2007., 1998., 1999., 1996., 2002., 2000., 1997., 2013.,\n",
       "       2014.,   nan, 2015., 2016., 2018., 1992., 2017., 1991., 2019.,\n",
       "       2020., 2021.])"
      ]
     },
     "execution_count": 22,
     "metadata": {},
     "output_type": "execute_result"
    }
   ],
   "source": [
    "pd.unique(athletes['debutYear'])"
   ]
  },
  {
   "cell_type": "code",
   "execution_count": 25,
   "id": "cf1fc53b-fce5-4ec4-88df-e9c79d5115e4",
   "metadata": {},
   "outputs": [
    {
     "name": "stdout",
     "output_type": "stream",
     "text": [
      "<class 'pandas.core.frame.DataFrame'>\n",
      "RangeIndex: 7166 entries, 0 to 7165\n",
      "Data columns (total 12 columns):\n",
      " #   Column             Non-Null Count  Dtype \n",
      "---  ------             --------------  ----- \n",
      " 0   athlete_id         7166 non-null   object\n",
      " 1   firstName          7166 non-null   object\n",
      " 2   lastName           7166 non-null   object\n",
      " 3   displayName        7166 non-null   object\n",
      " 4   fullName           7166 non-null   object\n",
      " 5   debutYear          7166 non-null   int64 \n",
      " 6   displayBirthPlace  6744 non-null   object\n",
      " 7   displayHeight      7158 non-null   object\n",
      " 8   displayWeight      7158 non-null   object\n",
      " 9   displayDOB         7121 non-null   object\n",
      " 10  age                7166 non-null   int64 \n",
      " 11  displayDraft       4010 non-null   object\n",
      "dtypes: int64(2), object(10)\n",
      "memory usage: 671.9+ KB\n",
      "athlete_id -------- 7166\n",
      "firstName -------- 2363\n",
      "lastName -------- 3862\n",
      "displayName -------- 7060\n",
      "fullName -------- 7060\n",
      "debutYear -------- 29\n",
      "displayBirthPlace -------- 2469\n",
      "displayHeight -------- 18\n",
      "displayWeight -------- 209\n",
      "displayDOB -------- 4308\n",
      "age -------- 34\n",
      "displayDraft -------- 4007\n"
     ]
    }
   ],
   "source": [
    "athletes['debutYear'] = athletes['debutYear'].fillna(0).astype('int64')\n",
    "athletes['age'] = athletes['age'].fillna(0).astype('int64')\n",
    "athletes.info(verbose=True)\n",
    "for column in athletes.columns.tolist():\n",
    "    try:\n",
    "        print(column,'--------',pd.unique(athletes[column]).size)\n",
    "    except:\n",
    "        print(column)"
   ]
  },
  {
   "cell_type": "code",
   "execution_count": 16,
   "id": "49da8e4a-e0fa-4926-91fa-9c0f1c21f733",
   "metadata": {},
   "outputs": [
    {
     "name": "stdout",
     "output_type": "stream",
     "text": [
      "<class 'pandas.core.frame.DataFrame'>\n",
      "RangeIndex: 48 entries, 0 to 47\n",
      "Data columns (total 8 columns):\n",
      " #   Column    Non-Null Count  Dtype \n",
      "---  ------    --------------  ----- \n",
      " 0   venue_id  48 non-null     object\n",
      " 1   fullName  48 non-null     object\n",
      " 2   capacity  48 non-null     int64 \n",
      " 3   grass     48 non-null     bool  \n",
      " 4   indoor    48 non-null     bool  \n",
      " 5   city      48 non-null     object\n",
      " 6   state     42 non-null     object\n",
      " 7   zipCode   38 non-null     object\n",
      "dtypes: bool(2), int64(1), object(5)\n",
      "memory usage: 2.5+ KB\n",
      "venue_id -------- 48\n",
      "fullName -------- 48\n",
      "capacity -------- 2\n",
      "grass -------- 2\n",
      "indoor -------- 2\n",
      "city -------- 43\n",
      "state -------- 26\n",
      "zipCode -------- 38\n"
     ]
    }
   ],
   "source": [
    "venues.info(verbose=True)\n",
    "for column in venues.columns.tolist():\n",
    "    try:\n",
    "        print(column,'--------',pd.unique(venues[column]).size)\n",
    "    except:\n",
    "        print(column)"
   ]
  },
  {
   "cell_type": "code",
   "execution_count": 17,
   "id": "ca2a1f24-c96d-42f9-a582-aa32aa8f45fe",
   "metadata": {},
   "outputs": [
    {
     "name": "stdout",
     "output_type": "stream",
     "text": [
      "<class 'pandas.core.frame.DataFrame'>\n",
      "RangeIndex: 36 entries, 0 to 35\n",
      "Data columns (total 11 columns):\n",
      " #   Column            Non-Null Count  Dtype \n",
      "---  ------            --------------  ----- \n",
      " 0   team_id           36 non-null     object\n",
      " 1   slug              36 non-null     object\n",
      " 2   location          36 non-null     object\n",
      " 3   name              34 non-null     object\n",
      " 4   nickname          36 non-null     object\n",
      " 5   abbreviation      36 non-null     object\n",
      " 6   displayName       36 non-null     object\n",
      " 7   shortDisplayName  36 non-null     object\n",
      " 8   color             34 non-null     object\n",
      " 9   alternateColor    32 non-null     object\n",
      " 10  franchise_id      36 non-null     object\n",
      "dtypes: object(11)\n",
      "memory usage: 3.2+ KB\n",
      "team_id -------- 36\n",
      "slug -------- 36\n",
      "location -------- 34\n",
      "name -------- 35\n",
      "nickname -------- 36\n",
      "abbreviation -------- 36\n",
      "displayName -------- 36\n",
      "shortDisplayName -------- 36\n",
      "color -------- 31\n",
      "alternateColor -------- 22\n",
      "franchise_id -------- 36\n"
     ]
    }
   ],
   "source": [
    "teams.info(verbose=True)\n",
    "for column in teams.columns.tolist():\n",
    "    try:\n",
    "        print(column,'--------',pd.unique(teams[column]).size)\n",
    "    except:\n",
    "        print(column)"
   ]
  },
  {
   "cell_type": "code",
   "execution_count": 18,
   "id": "fb4ecbb3-07b0-4431-bf07-375ab7618b77",
   "metadata": {
    "scrolled": true
   },
   "outputs": [
    {
     "name": "stdout",
     "output_type": "stream",
     "text": [
      "<class 'pandas.core.frame.DataFrame'>\n",
      "RangeIndex: 24 entries, 0 to 23\n",
      "Data columns (total 4 columns):\n",
      " #   Column        Non-Null Count  Dtype \n",
      "---  ------        --------------  ----- \n",
      " 0   id            24 non-null     object\n",
      " 1   name          24 non-null     object\n",
      " 2   displayName   24 non-null     object\n",
      " 3   abbreviation  24 non-null     object\n",
      "dtypes: object(4)\n",
      "memory usage: 896.0+ bytes\n",
      "id -------- 24\n",
      "name -------- 24\n",
      "displayName -------- 24\n",
      "abbreviation -------- 24\n"
     ]
    }
   ],
   "source": [
    "positions.info(verbose=True)\n",
    "for column in positions.columns.tolist():\n",
    "    try:\n",
    "        print(column,'--------',pd.unique(positions[column]).size)\n",
    "    except:\n",
    "        print(column)"
   ]
  },
  {
   "cell_type": "markdown",
   "id": "e6300ecc-d300-4ab8-802c-1e4c7aaeb718",
   "metadata": {},
   "source": [
    "# Save"
   ]
  },
  {
   "cell_type": "code",
   "execution_count": 26,
   "id": "303fe76e-897d-43c4-a67d-5d7cae861ce0",
   "metadata": {},
   "outputs": [],
   "source": [
    "#######################################\n",
    "games.to_csv('games.csv', index=False)\n",
    "rosters.to_csv('rosters.csv', index=False)\n",
    "athletes.to_csv('athletes.csv', index=False)\n",
    "venues.to_csv('venues.csv', index=False)\n",
    "teams.to_csv('teams.csv', index=False)\n",
    "positions.to_csv('positions.csv', index=False)\n",
    "#######################################"
   ]
  },
  {
   "cell_type": "code",
   "execution_count": null,
   "id": "fbc9a415-9386-4456-b433-d7f738d4ebc8",
   "metadata": {},
   "outputs": [],
   "source": []
  },
  {
   "cell_type": "code",
   "execution_count": null,
   "id": "5f019fb9-82bf-43e4-b991-677da80aaf92",
   "metadata": {},
   "outputs": [],
   "source": []
  },
  {
   "cell_type": "code",
   "execution_count": null,
   "id": "214a93b7-3736-4922-b8d3-3ea8441a67b5",
   "metadata": {},
   "outputs": [],
   "source": []
  },
  {
   "cell_type": "code",
   "execution_count": null,
   "id": "f12140ea-8077-420a-813e-6fac389cba40",
   "metadata": {},
   "outputs": [],
   "source": []
  },
  {
   "cell_type": "code",
   "execution_count": null,
   "id": "0cad2977",
   "metadata": {},
   "outputs": [],
   "source": []
  },
  {
   "cell_type": "code",
   "execution_count": null,
   "id": "6b339bb7",
   "metadata": {},
   "outputs": [],
   "source": [
    ": )"
   ]
  }
 ],
 "metadata": {
  "kernelspec": {
   "display_name": "Python 3 (ipykernel)",
   "language": "python",
   "name": "python3"
  },
  "language_info": {
   "codemirror_mode": {
    "name": "ipython",
    "version": 3
   },
   "file_extension": ".py",
   "mimetype": "text/x-python",
   "name": "python",
   "nbconvert_exporter": "python",
   "pygments_lexer": "ipython3",
   "version": "3.10.13"
  }
 },
 "nbformat": 4,
 "nbformat_minor": 5
}
