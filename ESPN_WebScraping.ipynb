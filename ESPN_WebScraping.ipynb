{
 "cells": [
  {
   "cell_type": "markdown",
   "id": "41766c29-f730-4821-ab69-212548c9d4f9",
   "metadata": {},
   "source": [
    "# NFL Database Project: WebScraping & Data Cleaning\n",
    "<br>\n",
    "CIS 761 Database Management Systems – Term Project<br>\n",
    "Kansas State University\n",
    "<br><br>\n",
    "Vishnu Bondalakunta<br>\n",
    "Charles Zumbaugh<br>\n",
    "James Chapman<br>\n",
    "<br>"
   ]
  },
  {
   "cell_type": "markdown",
   "id": "2ed33903-f986-4275-b4f9-1ab3a9c9af14",
   "metadata": {},
   "source": [
    "#### This notebook uses the public ESPN API. The URLs and endpoints were found in the following GitHub link. ESPN does not provide official documentation.\n",
    "\n",
    "* ## [List of NFL API Endpoints](https://gist.github.com/nntrn/ee26cb2a0716de0947a0a4e9a157bc1c#event-competitions-api)\n",
    "\n",
    "#### 8 tables are collected and saved as CSV files, which is used to populate the NFL database.\n",
    "* games\n",
    "* season_dates\n",
    "* linescores\n",
    "* rosters\n",
    "* athletes\n",
    "* venues\n",
    "* teams\n",
    "* positions"
   ]
  },
  {
   "cell_type": "code",
   "execution_count": 1,
   "id": "4fbb51b4",
   "metadata": {},
   "outputs": [],
   "source": [
    "import pandas as pd\n",
    "import numpy as np\n",
    "import requests\n",
    "import re"
   ]
  },
  {
   "cell_type": "code",
   "execution_count": 2,
   "id": "101ec647-e2b6-4552-931b-5981135229a7",
   "metadata": {},
   "outputs": [],
   "source": [
    "years = range(2013,2024) # ! Keep track of calendar year and NFL season year\n",
    "\n",
    "ESPN_EVENTS = 'https://site.api.espn.com/apis/site/v2/sports/football/nfl/scoreboard?limit=1000&dates={}' #.format(year)\n",
    "ESPN_ROSTERS = 'https://sports.core.api.espn.com/v2/sports/football/leagues/nfl/events/{}/competitions/{}/competitors/{}/roster' #.format(game_id,game_id,team_id)\n",
    "ESPN_ATHLETE_INFO = 'https://site.web.api.espn.com/apis/common/v3/sports/football/nfl/athletes/{}' #.format(player_id)\n",
    "ESPN_VENUE_INFO = 'http://sports.core.api.espn.com/v2/sports/football/leagues/nfl/venues/{}' #.format(venue_id)\n",
    "ESPN_TEAM_INFO = 'https://site.api.espn.com/apis/site/v2/sports/football/nfl/teams/{}' #.format(team_id)\n",
    "ESPN_POSITION_INFO = 'http://sports.core.api.espn.com/v2/sports/football/leagues/nfl/positions/{}' #.format(position_id)\n",
    "\n",
    "ESPN_STATISTICS = 'https://sports.core.api.espn.com/v2/sports/football/leagues/nfl/events/{}/competitions/{}/competitors/{}/roster/{}/statistics/0' #.format(game_id,game_id,team_id,player_id)\n",
    "ESPN_PLAY_BY_PLAY = 'https://sports.core.api.espn.com/v2/sports/football/leagues/nfl/events/{}/competitions/{}/plays?limit=3000' #.format(game_id,game_id)"
   ]
  },
  {
   "cell_type": "markdown",
   "id": "e33829d6-bc7a-4f17-8c01-a5ddc19701ec",
   "metadata": {},
   "source": [
    "# Games"
   ]
  },
  {
   "cell_type": "code",
   "execution_count": 3,
   "id": "300ee171-270d-47ee-a8f5-2f8556604e77",
   "metadata": {},
   "outputs": [
    {
     "name": "stdout",
     "output_type": "stream",
     "text": [
      "<class 'pandas.core.frame.DataFrame'>\n",
      "Int64Index: 2986 entries, 0 to 3584\n",
      "Data columns (total 9 columns):\n",
      " #   Column        Non-Null Count  Dtype \n",
      "---  ------        --------------  ----- \n",
      " 0   game_id       2986 non-null   object\n",
      " 1   name          2986 non-null   object\n",
      " 2   shortName     2986 non-null   object\n",
      " 3   date          2986 non-null   object\n",
      " 4   attendance    2986 non-null   int64 \n",
      " 5   venue_id      2986 non-null   object\n",
      " 6   home_team_id  2986 non-null   object\n",
      " 7   away_team_id  2986 non-null   object\n",
      " 8   utc_time      2986 non-null   object\n",
      "dtypes: int64(1), object(8)\n",
      "memory usage: 233.3+ KB\n"
     ]
    }
   ],
   "source": [
    "games = pd.DataFrame()\n",
    "for year in years:\n",
    "    try:\n",
    "        events = requests.get(ESPN_EVENTS.format(year)).json()\n",
    "        yearlyEvents = pd.json_normalize(events['events'])\n",
    "        games = pd.concat([games, yearlyEvents], ignore_index=True)\n",
    "    except: \n",
    "        print(year)\n",
    "\n",
    "# games['competitions'] is a list of dictionaries \n",
    "games['attendance'] = games['competitions'].apply(lambda x : x[0]['attendance'])\n",
    "games['venue_id'] = games['competitions'].apply(lambda x : x[0]['venue']['id'])\n",
    "\n",
    "# games['competitions'][0]['competitors'] is a list of 2 dictionaries (home and away).\n",
    "games['competitors'] = games['competitions'].apply(lambda x : x[0]['competitors'])\n",
    "\n",
    "games['home_team_id'] = games['competitors'].apply(lambda x : x[0]['id'])\n",
    "games['home_score'] = games['competitors'].apply(lambda x : x[0]['score'])\n",
    "games['away_team_id'] = games['competitors'].apply(lambda x : x[1]['id'])\n",
    "games['away_score'] = games['competitors'].apply(lambda x : x[1]['score'])\n",
    "\n",
    "# games['competitors']['winner'] is a Boolean win/lose, but there are ties! \n",
    "def tietest(x):\n",
    "    try: return x[0]['winner']\n",
    "    except KeyError: return None # tie! \n",
    "games['home_win_bool'] = games['competitors'].apply(tietest)\n",
    "\n",
    "# Drop pre-season and off-season\n",
    "games = games.drop(games[(games['season.type']== 1)].index)\n",
    "games = games.drop(games[(games['season.type']== 4)].index)\n",
    "\n",
    "# Split datetime into date/time \n",
    "# decompose date/week/season year/season type\n",
    "games['datetime'] = pd.to_datetime(games['date'])\n",
    "games['utc_time'] = games['datetime'].dt.strftime(\"%H:%M\")\n",
    "games['date'] = games['datetime'].dt.strftime(\"%d.%m.%Y\")\n",
    "season_dates = games[['date','season.year','season.type','week.number']].copy()\n",
    "\n",
    "#Keep around For linescores\n",
    "gameLinescores = games[['id','competitors']].copy()\n",
    "\n",
    "# Drop rows\n",
    "games = games.rename(columns={'id':'game_id'})\n",
    "games = games[['game_id',\n",
    "               'name',\n",
    "               'shortName',\n",
    "               'date',\n",
    "               'attendance',\n",
    "               'venue_id',\n",
    "               'home_team_id',\n",
    "               'away_team_id',\n",
    "               'utc_time']] \n",
    "                #'home_score',\n",
    "                #'away_score',\n",
    "               #'home_win_bool'\n",
    "\n",
    "games.info(verbose=True)"
   ]
  },
  {
   "cell_type": "markdown",
   "id": "9077d0a9-3fac-4cab-8cd0-4200bb8dcd96",
   "metadata": {},
   "source": [
    "# Season_Dates"
   ]
  },
  {
   "cell_type": "code",
   "execution_count": 4,
   "id": "66dc44ba-1976-4330-b14e-ce8bfa6b4c62",
   "metadata": {},
   "outputs": [
    {
     "name": "stdout",
     "output_type": "stream",
     "text": [
      "<class 'pandas.core.frame.DataFrame'>\n",
      "Int64Index: 837 entries, 0 to 3584\n",
      "Data columns (total 4 columns):\n",
      " #   Column       Non-Null Count  Dtype \n",
      "---  ------       --------------  ----- \n",
      " 0   date         837 non-null    object\n",
      " 1   season_year  837 non-null    int64 \n",
      " 2   season_type  837 non-null    object\n",
      " 3   week         837 non-null    int64 \n",
      "dtypes: int64(2), object(2)\n",
      "memory usage: 32.7+ KB\n"
     ]
    }
   ],
   "source": [
    "season_dates = season_dates.rename(columns={'season.year':'season_year',\n",
    "                                          'season.type':'season_type',\n",
    "                                          'week.number':'week'})\n",
    "# season_types names\n",
    "season_dates.loc[(season_dates['season_type']== 2),'season_type'] = 'Regular Season'\n",
    "season_dates.loc[(season_dates['season_type']== 3),'season_type'] = 'Post Season'\n",
    "\n",
    "season_dates.drop_duplicates(inplace=True)\n",
    "season_dates.info(verbose=True) "
   ]
  },
  {
   "cell_type": "markdown",
   "id": "4660bfc1-975e-440e-b08c-2908268641d6",
   "metadata": {},
   "source": [
    "# Linescores \r\n"
   ]
  },
  {
   "cell_type": "code",
   "execution_count": 5,
   "id": "3d523ce5-425a-4bad-93b3-0756bbf664db",
   "metadata": {},
   "outputs": [
    {
     "name": "stdout",
     "output_type": "stream",
     "text": [
      "Game canceled- 400554331\n",
      "Game canceled- 400951581\n",
      "Game canceled- 401492629\n",
      "<class 'pandas.core.frame.DataFrame'>\n",
      "Int64Index: 24212 entries, 0 to 24211\n",
      "Data columns (total 4 columns):\n",
      " #   Column   Non-Null Count  Dtype\n",
      "---  ------   --------------  -----\n",
      " 0   game_id  24212 non-null  int64\n",
      " 1   team_id  24212 non-null  int64\n",
      " 2   quarter  24212 non-null  int64\n",
      " 3   score    24212 non-null  int64\n",
      "dtypes: int64(4)\n",
      "memory usage: 945.8 KB\n"
     ]
    }
   ],
   "source": [
    "linescores = pd.DataFrame(columns = [\"game_id\",\"team_id\",\"quarter\",\"score\"])\n",
    "overtimecount = 0\n",
    "def eachrow(game):\n",
    "    try:\n",
    "        for competitor in game['competitors']: # competitors[0] = home team\n",
    "            quarter = 0\n",
    "            for linescore in competitor['linescores']:\n",
    "                quarter += 1\n",
    "                linescores.loc[len(linescores.index)] = [game['id'], \n",
    "                                                         competitor['id'],\n",
    "                                                         quarter, \n",
    "                                                         linescore['value']]\n",
    "    except:\n",
    "        print('Game canceled-', game['id'])\n",
    "\n",
    "junk = gameLinescores.apply(eachrow, axis=1)\n",
    "\n",
    "linescores['game_id'] = linescores['game_id'].astype('int64')\n",
    "linescores['team_id'] = linescores['team_id'].astype('int64')\n",
    "linescores['score'] = linescores['score'].astype('int64')\n",
    "linescores.info(verbose=True)"
   ]
  },
  {
   "cell_type": "markdown",
   "id": "f37424e6-1098-4a4a-ad57-410fffbbb5b5",
   "metadata": {},
   "source": [
    "# Rosters \n",
    "\n",
    "The rosters URL lists all players under 'entries'. But the position is something like this…<br>\n",
    "$ref : \"http://sports.core.api.espn.com/v2/sports/football/leagues/nfl/positions/46?lang=en&region=us\" <br>\r\n",
    "This just splits the link at \"positions\" giving \"/46?lang=en&region=us\"\n",
    "and then takes only numbers \"46\"\n",
    "\n",
    "\r\n"
   ]
  },
  {
   "cell_type": "code",
   "execution_count": 6,
   "id": "c74d2d41-08c2-471d-bf39-f0673e253556",
   "metadata": {},
   "outputs": [
    {
     "name": "stdout",
     "output_type": "stream",
     "text": [
      "Game canceled or Pro bowl - 330127032\n",
      "Game canceled or Pro bowl - 340126035\n",
      "Game canceled or Pro bowl - 400554331\n",
      "Game canceled or Pro bowl - 400874729\n",
      "<class 'pandas.core.frame.DataFrame'>\n",
      "Int64Index: 364111 entries, 0 to 364110\n",
      "Data columns (total 6 columns):\n",
      " #   Column       Non-Null Count   Dtype \n",
      "---  ------       --------------   ----- \n",
      " 0   game_id      364111 non-null  object\n",
      " 1   team_id      364111 non-null  object\n",
      " 2   athlete_id   364111 non-null  int64 \n",
      " 3   position_id  364111 non-null  object\n",
      " 4   active       364111 non-null  bool  \n",
      " 5   didNotPlay   364111 non-null  bool  \n",
      "dtypes: bool(2), int64(1), object(3)\n",
      "memory usage: 14.6+ MB\n"
     ]
    }
   ],
   "source": [
    "rosters = pd.DataFrame(columns = [\"game_id\", \"team_id\", \"athlete_id\",\"position_id\",\"active\",\"didNotPlay\"])\n",
    "def eachrow(game):\n",
    "    temp_game_id = game['game_id']\n",
    "    temp_home_team_id = game['home_team_id']\n",
    "    temp_away_team_id = game['away_team_id']\n",
    "\n",
    "    try:\n",
    "        homeRoster = requests.get(ESPN_ROSTERS.format(temp_game_id,temp_game_id,temp_home_team_id)).json()\n",
    "        for player in homeRoster['entries']:\n",
    "            split = re.split(\"positions\", player['position']['$ref'])\n",
    "            position_id = re.sub(\"[^0-9.]\", \"\", split[1])\n",
    "            rosters.loc[len(rosters.index)] = [temp_game_id, \n",
    "                                                temp_home_team_id,\n",
    "                                                player['playerId'], \n",
    "                                                position_id, \n",
    "                                                player['active'], \n",
    "                                                player['didNotPlay']]\n",
    "    \n",
    "        awayRoster = requests.get(ESPN_ROSTERS.format(temp_game_id,temp_game_id,temp_away_team_id)).json()\n",
    "        # print(temp_game_id, temp_home_team_id, temp_away_team_id, len(homeRoster['entries']), len(awayRoster['entries']))\n",
    "        for player in awayRoster['entries']:\n",
    "            split = re.split(\"positions\", player['position']['$ref'])\n",
    "            position_id = re.sub(\"[^0-9.]\", \"\", split[1])\n",
    "            rosters.loc[len(rosters.index)] = [temp_game_id, \n",
    "                                                temp_home_team_id,\n",
    "                                                player['playerId'], \n",
    "                                                position_id, \n",
    "                                                player['active'], \n",
    "                                                player['didNotPlay']]\n",
    "    except:\n",
    "        print('Game canceled or Pro bowl -', game['game_id'])\n",
    "\n",
    "games.apply(eachrow, axis=1)\n",
    "rosters.info(verbose=True)"
   ]
  },
  {
   "cell_type": "markdown",
   "id": "9b825c8b-b46b-426c-939c-1a3a45c932f8",
   "metadata": {},
   "source": [
    "# Athletes "
   ]
  },
  {
   "cell_type": "code",
   "execution_count": 7,
   "id": "28a6ba98-f344-4ed3-bec8-57406f10c342",
   "metadata": {},
   "outputs": [
    {
     "name": "stdout",
     "output_type": "stream",
     "text": [
      "4568981\n",
      "3929824\n",
      "<class 'pandas.core.frame.DataFrame'>\n",
      "RangeIndex: 7165 entries, 0 to 7164\n",
      "Data columns (total 9 columns):\n",
      " #   Column        Non-Null Count  Dtype \n",
      "---  ------        --------------  ----- \n",
      " 0   athlete_id    7165 non-null   object\n",
      " 1   firstName     7165 non-null   object\n",
      " 2   lastName      7165 non-null   object\n",
      " 3   birth_place   6743 non-null   object\n",
      " 4   drafted_bool  4010 non-null   object\n",
      " 5   jersey        6713 non-null   object\n",
      " 6   heightInches  7157 non-null   object\n",
      " 7   weight        7157 non-null   object\n",
      " 8   dob           7120 non-null   object\n",
      "dtypes: object(9)\n",
      "memory usage: 503.9+ KB\n"
     ]
    }
   ],
   "source": [
    "athletes = pd.DataFrame()\n",
    "for athlete_id in pd.unique(rosters['athlete_id']):\n",
    "    try:\n",
    "        athlete_info = requests.get(ESPN_ATHLETE_INFO.format(athlete_id)).json()\n",
    "        athlete_info = pd.json_normalize(athlete_info['athlete'])\n",
    "        athletes = pd.concat([athletes, athlete_info], ignore_index=True)\n",
    "    except: \n",
    "        print(athlete_id)\n",
    "\n",
    "# Drop rows\n",
    "athletes = athletes.rename(columns={'id':'athlete_id',\n",
    "                                     'displayBirthPlace':'birth_place',\n",
    "                                     'displayDraft':'drafted_bool',\n",
    "                                     'displayHeight':'heightInches',\n",
    "                                     'displayWeight':'weight',\n",
    "                                     'displayDOB':'dob'})\n",
    "athletes = athletes[['athlete_id',\n",
    "                     'firstName',\n",
    "                     'lastName',\n",
    "                     #'debutYear',\n",
    "                     'birth_place',\n",
    "                     'drafted_bool',\n",
    "                     'jersey',\n",
    "                     'heightInches',\n",
    "                     'weight',\n",
    "                     'dob']]\n",
    "                     #'displayDraft']]\n",
    "                     #'college.id',\n",
    "                     #'jersey',\n",
    "                     #'displayJersey',\n",
    "                     #'displayExperience',\n",
    "                     #'position.id',\n",
    "                     #'team.id',\n",
    "                     #'collegeTeam.id',\n",
    "                     #'collegeAthlete.id'\n",
    "\n",
    "#athletes['debutYear'] = athletes['debutYear'].fillna(0).astype('int64')\n",
    "athletes.info(verbose=True)"
   ]
  },
  {
   "cell_type": "code",
   "execution_count": 9,
   "id": "a59af6ce-102c-4019-9bf1-b60273291930",
   "metadata": {},
   "outputs": [],
   "source": [
    "def extract_number(s: str) -> str:\n",
    "    try:\n",
    "        return re.match(r'[0-9]+', s).group(0)\n",
    "    except:\n",
    "        return 0#'NULL'\n",
    "\n",
    "\n",
    "def get_height_inches(height_str: str) -> int:\n",
    "    # pattern of display height in [0-9]'[0-9]+\" where the first\n",
    "    # value is height in feet and the second is height in inches.\n",
    "    try:\n",
    "        matches = re.findall(r'[0-9]+', height_str)\n",
    "        feet = matches[0]\n",
    "        inches = matches[1]\n",
    "        return int(feet) * 12 + int(inches)\n",
    "    except:\n",
    "        return pd.NA\n",
    "\n",
    "def clean_date(date_string: str) -> str:\n",
    "    # The date is formatted in one of several ways:\n",
    "    # %M-%d-%Y\n",
    "    # %M-%d-%y\n",
    "    # %m-%d-%Y\n",
    "    # %m-%d-%y\n",
    "    try:\n",
    "        date_values = re.findall(r'[0-9]+', date_string)\n",
    "        day = date_values[0]\n",
    "        month = date_values[1]\n",
    "        year = date_values[2]\n",
    "        day = '0' + day if len(day) < 2 else day\n",
    "        month = '0' + month if len(month) < 2 else month\n",
    "        if len(year) < 4:\n",
    "            if int(year) > 24:\n",
    "                year = '19' + year\n",
    "            else:\n",
    "                year = '20' + year\n",
    "        return f'{month}-{day}-{year}'\n",
    "    except:\n",
    "        return ''\n",
    "\n",
    "athletes['weight'] = athletes['weight'].apply(extract_number)\n",
    "athletes['heightInches'] = athletes['heightInches'].apply(get_height_inches)\n",
    "athletes['dob'] = athletes['dob'].apply(clean_date)"
   ]
  },
  {
   "cell_type": "markdown",
   "id": "a9fcc6c0-97ed-49bc-be98-884e1e5afa51",
   "metadata": {},
   "source": [
    "# Venues"
   ]
  },
  {
   "cell_type": "code",
   "execution_count": 23,
   "id": "12b3cc48-3600-4d60-b235-69bc40e17cc0",
   "metadata": {},
   "outputs": [
    {
     "name": "stdout",
     "output_type": "stream",
     "text": [
      "<class 'pandas.core.frame.DataFrame'>\n",
      "RangeIndex: 48 entries, 0 to 47\n",
      "Data columns (total 7 columns):\n",
      " #   Column    Non-Null Count  Dtype \n",
      "---  ------    --------------  ----- \n",
      " 0   venue_id  48 non-null     object\n",
      " 1   fullName  48 non-null     object\n",
      " 2   grass     48 non-null     bool  \n",
      " 3   indoor    48 non-null     bool  \n",
      " 4   city      48 non-null     object\n",
      " 5   state     42 non-null     object\n",
      " 6   zipCode   38 non-null     object\n",
      "dtypes: bool(2), object(5)\n",
      "memory usage: 2.1+ KB\n"
     ]
    }
   ],
   "source": [
    "venues = pd.DataFrame()\n",
    "for venue_id in pd.unique(games['venue_id']):\n",
    "    try:\n",
    "        venue_info = requests.get(ESPN_VENUE_INFO.format(venue_id)).json()\n",
    "        venue_info = pd.json_normalize(venue_info)\n",
    "        venues = pd.concat([venues, venue_info], ignore_index=True)\n",
    "    except: \n",
    "        print(venue_id)\n",
    "\n",
    "# # Drop rows\n",
    "venues = venues[['id',\n",
    "                 'fullName',\n",
    "                 #'capacity',\n",
    "                 'grass',\n",
    "                 'indoor',\n",
    "                 'address.city',\n",
    "                 'address.state',\n",
    "                 'address.zipCode']]\n",
    "venues = venues.rename(columns={'id':'venue_id',\n",
    "                                'address.city':'city',\n",
    "                                'address.state':'state',\n",
    "                                'address.zipCode':'zipCode'})\n",
    "venues.info(verbose=True)"
   ]
  },
  {
   "cell_type": "markdown",
   "id": "27c231af-b721-4b97-a9bb-2f05a03aa7e6",
   "metadata": {},
   "source": [
    "# Teams"
   ]
  },
  {
   "cell_type": "code",
   "execution_count": 11,
   "id": "57666c97-de78-4ad7-a90a-8a6087f25d14",
   "metadata": {},
   "outputs": [
    {
     "name": "stdout",
     "output_type": "stream",
     "text": [
      "<class 'pandas.core.frame.DataFrame'>\n",
      "RangeIndex: 36 entries, 0 to 35\n",
      "Data columns (total 7 columns):\n",
      " #   Column           Non-Null Count  Dtype \n",
      "---  ------           --------------  ----- \n",
      " 0   team_id          36 non-null     object\n",
      " 1   location         36 non-null     object\n",
      " 2   name             34 non-null     object\n",
      " 3   abbreviation     36 non-null     object\n",
      " 4   venue_id         32 non-null     object\n",
      " 5   primary_color    34 non-null     object\n",
      " 6   secondary_color  32 non-null     object\n",
      "dtypes: object(7)\n",
      "memory usage: 2.1+ KB\n"
     ]
    }
   ],
   "source": [
    "teams = pd.DataFrame()\n",
    "for team_id in pd.unique(games['home_team_id']):\n",
    "    try:\n",
    "        team_info = requests.get(ESPN_TEAM_INFO.format(team_id)).json()\n",
    "        team_info = pd.json_normalize(team_info)\n",
    "        teams = pd.concat([teams, team_info], ignore_index=True)\n",
    "    except: \n",
    "        print(team_id)\n",
    "\n",
    "# # Drop rows\n",
    "teams = teams[['team.id',\n",
    "                 'team.location',\n",
    "                 'team.name',\n",
    "                 'team.abbreviation',\n",
    "                 'team.franchise.venue.id',\n",
    "                 'team.color',\n",
    "                 'team.alternateColor']]\n",
    "teams = teams.rename(columns={'team.id':'team_id',\n",
    "                             'team.location':'location',\n",
    "                             'team.name':'name',\n",
    "                             'team.abbreviation':'abbreviation',\n",
    "                             'team.franchise.venue.id':'venue_id',\n",
    "                             'team.color':'primary_color',\n",
    "                             'team.alternateColor':'secondary_color'})\n",
    "\n",
    "teams.info(verbose=True)"
   ]
  },
  {
   "cell_type": "markdown",
   "id": "a4e0be8e-dfcf-4e34-b7d6-5f9d413158d9",
   "metadata": {},
   "source": [
    "# Positions"
   ]
  },
  {
   "cell_type": "code",
   "execution_count": 12,
   "id": "f3bccf3e-e673-4536-bed6-e40c99ddc734",
   "metadata": {},
   "outputs": [
    {
     "name": "stdout",
     "output_type": "stream",
     "text": [
      "<class 'pandas.core.frame.DataFrame'>\n",
      "RangeIndex: 24 entries, 0 to 23\n",
      "Data columns (total 3 columns):\n",
      " #   Column        Non-Null Count  Dtype \n",
      "---  ------        --------------  ----- \n",
      " 0   position_id   24 non-null     object\n",
      " 1   name          24 non-null     object\n",
      " 2   abbreviation  24 non-null     object\n",
      "dtypes: object(3)\n",
      "memory usage: 704.0+ bytes\n"
     ]
    }
   ],
   "source": [
    "positions = pd.DataFrame()\n",
    "for position_id in pd.unique(rosters['position_id']):\n",
    "    try:\n",
    "        position_info = requests.get(ESPN_POSITION_INFO.format(position_id)).json()\n",
    "        position_info = pd.json_normalize(position_info)\n",
    "        positions = pd.concat([positions, position_info], ignore_index=True)\n",
    "    except: \n",
    "        print(position_info)\n",
    "\n",
    "# Drop rows\n",
    "positions = positions[['id', 'name', 'abbreviation']]\n",
    "positions = positions.rename(columns={'id':'position_id'})\n",
    "\n",
    "positions.info(verbose=True)"
   ]
  },
  {
   "cell_type": "markdown",
   "id": "4bddb09d-ef54-4422-b63c-918266b92f99",
   "metadata": {},
   "source": [
    "# Review"
   ]
  },
  {
   "cell_type": "code",
   "execution_count": 13,
   "id": "75eb1a20-da79-4113-8093-e518ef399a34",
   "metadata": {},
   "outputs": [
    {
     "name": "stdout",
     "output_type": "stream",
     "text": [
      "<class 'pandas.core.frame.DataFrame'>\n",
      "Int64Index: 2986 entries, 0 to 3584\n",
      "Data columns (total 9 columns):\n",
      " #   Column        Non-Null Count  Dtype \n",
      "---  ------        --------------  ----- \n",
      " 0   game_id       2986 non-null   object\n",
      " 1   name          2986 non-null   object\n",
      " 2   shortName     2986 non-null   object\n",
      " 3   date          2986 non-null   object\n",
      " 4   attendance    2986 non-null   int64 \n",
      " 5   venue_id      2986 non-null   object\n",
      " 6   home_team_id  2986 non-null   object\n",
      " 7   away_team_id  2986 non-null   object\n",
      " 8   utc_time      2986 non-null   object\n",
      "dtypes: int64(1), object(8)\n",
      "memory usage: 233.3+ KB\n",
      "game_id -------- 2986\n",
      "name -------- 1160\n",
      "shortName -------- 1144\n",
      "date -------- 837\n",
      "attendance -------- 2315\n",
      "venue_id -------- 48\n",
      "home_team_id -------- 36\n",
      "away_team_id -------- 36\n",
      "utc_time -------- 49\n"
     ]
    }
   ],
   "source": [
    "games.info(verbose=True)\n",
    "for column in games.columns.tolist():\n",
    "    try:\n",
    "        print(column,'--------',pd.unique(games[column]).size)\n",
    "    except:\n",
    "        print(column)"
   ]
  },
  {
   "cell_type": "code",
   "execution_count": 14,
   "id": "ad760992-07fe-4ab6-b100-d443c7cf0980",
   "metadata": {},
   "outputs": [
    {
     "name": "stdout",
     "output_type": "stream",
     "text": [
      "<class 'pandas.core.frame.DataFrame'>\n",
      "Int64Index: 837 entries, 0 to 3584\n",
      "Data columns (total 4 columns):\n",
      " #   Column       Non-Null Count  Dtype \n",
      "---  ------       --------------  ----- \n",
      " 0   date         837 non-null    object\n",
      " 1   season_year  837 non-null    int64 \n",
      " 2   season_type  837 non-null    object\n",
      " 3   week         837 non-null    int64 \n",
      "dtypes: int64(2), object(2)\n",
      "memory usage: 32.7+ KB\n",
      "date -------- 837\n",
      "season_year -------- 12\n",
      "season_type -------- 2\n",
      "week -------- 18\n"
     ]
    }
   ],
   "source": [
    "season_dates.info(verbose=True)\n",
    "for column in season_dates.columns.tolist():\n",
    "    try:\n",
    "        print(column,'--------',pd.unique(season_dates[column]).size)\n",
    "    except:\n",
    "        print(column)"
   ]
  },
  {
   "cell_type": "code",
   "execution_count": 15,
   "id": "409af73c-c09f-4cc5-b9a1-c8276443aa54",
   "metadata": {},
   "outputs": [
    {
     "name": "stdout",
     "output_type": "stream",
     "text": [
      "<class 'pandas.core.frame.DataFrame'>\n",
      "Int64Index: 24212 entries, 0 to 24211\n",
      "Data columns (total 4 columns):\n",
      " #   Column   Non-Null Count  Dtype\n",
      "---  ------   --------------  -----\n",
      " 0   game_id  24212 non-null  int64\n",
      " 1   team_id  24212 non-null  int64\n",
      " 2   quarter  24212 non-null  int64\n",
      " 3   score    24212 non-null  int64\n",
      "dtypes: int64(4)\n",
      "memory usage: 945.8 KB\n",
      "game_id -------- 2983\n",
      "team_id -------- 36\n",
      "quarter -------- 6\n",
      "score -------- 30\n"
     ]
    }
   ],
   "source": [
    "linescores.info(verbose=True)\n",
    "for column in linescores.columns.tolist():\n",
    "    try:\n",
    "        print(column,'--------',pd.unique(linescores[column]).size)\n",
    "    except:\n",
    "        print(column)"
   ]
  },
  {
   "cell_type": "code",
   "execution_count": 16,
   "id": "19bde349-bddf-46aa-b6fd-f0e6860ae303",
   "metadata": {},
   "outputs": [
    {
     "name": "stdout",
     "output_type": "stream",
     "text": [
      "<class 'pandas.core.frame.DataFrame'>\n",
      "Int64Index: 364111 entries, 0 to 364110\n",
      "Data columns (total 6 columns):\n",
      " #   Column       Non-Null Count   Dtype \n",
      "---  ------       --------------   ----- \n",
      " 0   game_id      364111 non-null  object\n",
      " 1   team_id      364111 non-null  object\n",
      " 2   athlete_id   364111 non-null  int64 \n",
      " 3   position_id  364111 non-null  object\n",
      " 4   active       364111 non-null  bool  \n",
      " 5   didNotPlay   364111 non-null  bool  \n",
      "dtypes: bool(2), int64(1), object(3)\n",
      "memory usage: 14.6+ MB\n",
      "game_id -------- 2982\n",
      "team_id -------- 36\n",
      "athlete_id -------- 7167\n",
      "position_id -------- 24\n",
      "active -------- 2\n",
      "didNotPlay -------- 2\n"
     ]
    }
   ],
   "source": [
    "rosters.info(verbose=True)\n",
    "for column in rosters.columns.tolist():\n",
    "    try:\n",
    "        print(column,'--------',pd.unique(rosters[column]).size)\n",
    "    except:\n",
    "        print(column)"
   ]
  },
  {
   "cell_type": "code",
   "execution_count": 28,
   "id": "cf1fc53b-fce5-4ec4-88df-e9c79d5115e4",
   "metadata": {
    "scrolled": true
   },
   "outputs": [
    {
     "name": "stdout",
     "output_type": "stream",
     "text": [
      "<class 'pandas.core.frame.DataFrame'>\n",
      "RangeIndex: 7165 entries, 0 to 7164\n",
      "Data columns (total 9 columns):\n",
      " #   Column        Non-Null Count  Dtype \n",
      "---  ------        --------------  ----- \n",
      " 0   athlete_id    7165 non-null   object\n",
      " 1   firstName     7165 non-null   object\n",
      " 2   lastName      7165 non-null   object\n",
      " 3   birth_place   6743 non-null   object\n",
      " 4   drafted_bool  4010 non-null   object\n",
      " 5   jersey        6713 non-null   object\n",
      " 6   heightInches  7157 non-null   object\n",
      " 7   weight        7165 non-null   int64 \n",
      " 8   dob           7165 non-null   object\n",
      "dtypes: int64(1), object(8)\n",
      "memory usage: 503.9+ KB\n",
      "athlete_id -------- 7165\n",
      "firstName -------- 2363\n",
      "lastName -------- 3861\n",
      "birth_place -------- 2469\n",
      "drafted_bool -------- 4007\n",
      "jersey -------- 107\n",
      "heightInches -------- 18\n",
      "weight -------- 209\n",
      "dob -------- 4308\n"
     ]
    }
   ],
   "source": [
    "athletes.info(verbose=True)\n",
    "for column in athletes.columns.tolist():\n",
    "    try:\n",
    "        print(column,'--------',pd.unique(athletes[column]).size)\n",
    "    except:\n",
    "        print(column)"
   ]
  },
  {
   "cell_type": "code",
   "execution_count": 24,
   "id": "49da8e4a-e0fa-4926-91fa-9c0f1c21f733",
   "metadata": {},
   "outputs": [
    {
     "name": "stdout",
     "output_type": "stream",
     "text": [
      "<class 'pandas.core.frame.DataFrame'>\n",
      "RangeIndex: 48 entries, 0 to 47\n",
      "Data columns (total 7 columns):\n",
      " #   Column    Non-Null Count  Dtype \n",
      "---  ------    --------------  ----- \n",
      " 0   venue_id  48 non-null     object\n",
      " 1   fullName  48 non-null     object\n",
      " 2   grass     48 non-null     bool  \n",
      " 3   indoor    48 non-null     bool  \n",
      " 4   city      48 non-null     object\n",
      " 5   state     42 non-null     object\n",
      " 6   zipCode   38 non-null     object\n",
      "dtypes: bool(2), object(5)\n",
      "memory usage: 2.1+ KB\n",
      "venue_id -------- 48\n",
      "fullName -------- 48\n",
      "grass -------- 2\n",
      "indoor -------- 2\n",
      "city -------- 43\n",
      "state -------- 26\n",
      "zipCode -------- 38\n"
     ]
    }
   ],
   "source": [
    "venues.info(verbose=True)\n",
    "for column in venues.columns.tolist():\n",
    "    try:\n",
    "        print(column,'--------',pd.unique(venues[column]).size)\n",
    "    except:\n",
    "        print(column)"
   ]
  },
  {
   "cell_type": "code",
   "execution_count": 19,
   "id": "ca2a1f24-c96d-42f9-a582-aa32aa8f45fe",
   "metadata": {},
   "outputs": [
    {
     "name": "stdout",
     "output_type": "stream",
     "text": [
      "<class 'pandas.core.frame.DataFrame'>\n",
      "RangeIndex: 36 entries, 0 to 35\n",
      "Data columns (total 7 columns):\n",
      " #   Column           Non-Null Count  Dtype \n",
      "---  ------           --------------  ----- \n",
      " 0   team_id          36 non-null     object\n",
      " 1   location         36 non-null     object\n",
      " 2   name             34 non-null     object\n",
      " 3   abbreviation     36 non-null     object\n",
      " 4   venue_id         32 non-null     object\n",
      " 5   primary_color    34 non-null     object\n",
      " 6   secondary_color  32 non-null     object\n",
      "dtypes: object(7)\n",
      "memory usage: 2.1+ KB\n",
      "team_id -------- 36\n",
      "location -------- 34\n",
      "name -------- 35\n",
      "abbreviation -------- 36\n",
      "venue_id -------- 32\n",
      "primary_color -------- 31\n",
      "secondary_color -------- 22\n"
     ]
    }
   ],
   "source": [
    "teams.info(verbose=True)\n",
    "for column in teams.columns.tolist():\n",
    "    try:\n",
    "        print(column,'--------',pd.unique(teams[column]).size)\n",
    "    except:\n",
    "        print(column)"
   ]
  },
  {
   "cell_type": "code",
   "execution_count": 20,
   "id": "fb4ecbb3-07b0-4431-bf07-375ab7618b77",
   "metadata": {},
   "outputs": [
    {
     "name": "stdout",
     "output_type": "stream",
     "text": [
      "<class 'pandas.core.frame.DataFrame'>\n",
      "RangeIndex: 24 entries, 0 to 23\n",
      "Data columns (total 3 columns):\n",
      " #   Column        Non-Null Count  Dtype \n",
      "---  ------        --------------  ----- \n",
      " 0   position_id   24 non-null     object\n",
      " 1   name          24 non-null     object\n",
      " 2   abbreviation  24 non-null     object\n",
      "dtypes: object(3)\n",
      "memory usage: 704.0+ bytes\n",
      "position_id -------- 24\n",
      "name -------- 24\n",
      "abbreviation -------- 24\n"
     ]
    }
   ],
   "source": [
    "positions.info(verbose=True)\n",
    "for column in positions.columns.tolist():\n",
    "    try:\n",
    "        print(column,'--------',pd.unique(positions[column]).size)\n",
    "    except:\n",
    "        print(column)"
   ]
  },
  {
   "cell_type": "markdown",
   "id": "e6300ecc-d300-4ab8-802c-1e4c7aaeb718",
   "metadata": {},
   "source": [
    "# Save"
   ]
  },
  {
   "cell_type": "code",
   "execution_count": 21,
   "id": "303fe76e-897d-43c4-a67d-5d7cae861ce0",
   "metadata": {},
   "outputs": [],
   "source": [
    "#######################################\n",
    "games.to_csv('games.csv', index=False)\n",
    "season_dates.to_csv('season_dates.csv', index=False)\n",
    "linescores.to_csv('linescores.csv', index=False)\n",
    "rosters.to_csv('rosters.csv', index=False)\n",
    "athletes.to_csv('athletes.csv', index=False)\n",
    "venues.to_csv('venues.csv', index=False)\n",
    "teams.to_csv('teams.csv', index=False)\n",
    "positions.to_csv('positions.csv', index=False)\n",
    "#######################################"
   ]
  },
  {
   "cell_type": "code",
   "execution_count": null,
   "id": "214a93b7-3736-4922-b8d3-3ea8441a67b5",
   "metadata": {},
   "outputs": [],
   "source": []
  },
  {
   "cell_type": "code",
   "execution_count": 22,
   "id": "6b339bb7",
   "metadata": {},
   "outputs": [
    {
     "ename": "SyntaxError",
     "evalue": "unmatched ')' (2155285666.py, line 1)",
     "output_type": "error",
     "traceback": [
      "\u001b[1;36m  Cell \u001b[1;32mIn[22], line 1\u001b[1;36m\u001b[0m\n\u001b[1;33m    : )\u001b[0m\n\u001b[1;37m      ^\u001b[0m\n\u001b[1;31mSyntaxError\u001b[0m\u001b[1;31m:\u001b[0m unmatched ')'\n"
     ]
    }
   ],
   "source": [
    ": )"
   ]
  }
 ],
 "metadata": {
  "kernelspec": {
   "display_name": "Python 3 (ipykernel)",
   "language": "python",
   "name": "python3"
  },
  "language_info": {
   "codemirror_mode": {
    "name": "ipython",
    "version": 3
   },
   "file_extension": ".py",
   "mimetype": "text/x-python",
   "name": "python",
   "nbconvert_exporter": "python",
   "pygments_lexer": "ipython3",
   "version": "3.10.13"
  }
 },
 "nbformat": 4,
 "nbformat_minor": 5
}
